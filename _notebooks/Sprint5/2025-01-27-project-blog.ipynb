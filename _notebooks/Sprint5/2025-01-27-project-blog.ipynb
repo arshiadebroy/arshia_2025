{
 "cells": [
  {
   "cell_type": "markdown",
   "metadata": {},
   "source": [
    "---\n",
    "layout: post\n",
    "title: Live Review Blog \n",
    "description: Individual and Group accomplishments  \n",
    "courses: { csp: {week:1} }\n",
    "comments: true \n",
    "sticky_rank: 1\n",
    "---"
   ]
  },
  {
   "cell_type": "markdown",
   "metadata": {},
   "source": [
    "## Individual Features \n",
    "- Throughout our process of making this website, I helped my team organize things we were supposed to complete on the Kanban board as well as helping complete the frontend on San Diego and other parts of our website. \n",
    "- As for backend, I helped format the reviews that connect from frontend to backend, and help users post reviews of the foods that they have tried from each country. I also was able to connect an api to San Diego and code in order to have random restaurants to pop up when users pick a type of food. "
   ]
  },
  {
   "cell_type": "markdown",
   "metadata": {
    "vscode": {
     "languageId": "plaintext"
    }
   },
   "source": [
    "## Group Program\n",
    "- We worked together to create our restaurant review website through tracking our goals through a Kanban board and burndown issues, then following through by collaborating to design every feature on our website \n",
    "\n",
    "## Input/Output\n",
    "- - Using frontend show  API request and  present API response. (live demo) <br>\n",
    "<img width=\"905\" alt=\"Image\" src=\"https://github.com/user-attachments/assets/b543a261-61fb-4416-8822-b89155e5880d\" />\n",
    "- Using postman to show raw API request and RESTful response (error code(s) and JSON) <br>\n",
    "<img width=\"915\" alt=\"Image\" src=\"https://github.com/user-attachments/assets/64d22dc5-024f-46cb-b89b-6963bd830ed8\" /> <br> <img width=\"490\" alt=\"Image\" src=\"https://github.com/user-attachments/assets/65008af0-bbcf-41f1-8bbb-7ba4691e8a05\" /> <br>  <img width=\"473\" alt=\"Image\" src=\"https://github.com/user-attachments/assets/1b3cfb4d-197b-49ff-855f-3e479fd49c83\" />\n",
    "- Using db_init, db_restore, db_backup to show tester data creation and data recovery. <br>\n",
    "<img width=\"745\" alt=\"Image\" src=\"https://github.com/user-attachments/assets/f0e0110c-dc79-4a01-84c4-ba29a1945a80\" /> <br> <img width=\"731\" alt=\"Image\" src=\"https://github.com/user-attachments/assets/367146db-2717-4b1a-8797-4e7ad6d042b6\" />\n",
    "\n",
    "## List Requests \n",
    "- <img width=\"725\" alt=\"Image\" src=\"https://github.com/user-attachments/assets/e07f65e3-0944-4962-9ce9-7f57ae225aba\" />\n",
    "- Discuss formatting response data (JSON) from API into DOM <br>\n",
    "<img width=\"413\" alt=\"Image\" src=\"https://github.com/user-attachments/assets/6fc8ec4a-0d22-4eaf-a035-a38c94bf17a4\" /> <br>\n",
    "frontend: DOM <br> <img width=\"475\" alt=\"Image\" src=\"https://github.com/user-attachments/assets/77f850db-1a9a-4d52-91ca-c3e0327f6052\" />\n",
    "\n",
    "- Discuss queries from database where you extract a Python List (rows). Mention how these queries are provide by a 3rd. party library. <br> <img width=\"707\" alt=\"Image\" src=\"https://github.com/user-attachments/assets/8b02993e-0e42-4cda-93ae-0b8cc8e4e7f6\" />\n",
    "\n",
    "- Discuss methods in \"class\" you created to work with columns (create, read, update, delete)\n",
    "create:<br> <img width=\"646\" alt=\"Image\" src=\"https://github.com/user-attachments/assets/0427ec76-3f3c-470a-a680-a68e69b26a29\" />\n",
    "read: <br> <img width=\"716\" alt=\"Image\" src=\"https://github.com/user-attachments/assets/fc951ae8-cc7f-4ac1-9103-0860890dd49b\" />\n",
    "update:<br>  <img width=\"302\" alt=\"Image\" src=\"https://github.com/user-attachments/assets/795741c0-8155-41ec-a3b4-998bbbd69897\" />\n",
    "delete:<br> <img width=\"646\" alt=\"Image\" src=\"https://github.com/user-attachments/assets/0427ec76-3f3c-470a-a680-a68e69b26a29\" />\n",
    "\n",
    "## Algorithmic code request. \n",
    "- Discuss API class (code block) you used to perform  get, post, put, and delete methods.\n",
    " <br>  <img width=\"302\" alt=\"Image\" src=https://cs-p-hq.slack.com/files/U07JAH04LJD/F08BR0TAG4Q/screenshot_2025-01-30_at_10.46.39___am.png\n",
    " \n",
    "- Discuss a method/procedure in class that contains sequencing, selection, and iteration.\n",
    "<br>  <img width=\"302\" alt=\"Image\" src=https://cs-p-hq.slack.com/files/U07JAH04LJD/F08AZB7HC6R/screenshot_2025-01-30_at_10.47.21___am.png\n",
    "\n",
    "- Discuss the parameters (body of request) and return type (jasonify) of the function.\n",
    "<br>  <img width=\"302\" alt=\"Image\" src=https://cs-p-hq.slack.com/files/U07JAH04LJD/F08B26UGG1G/screenshot_2025-01-30_at_10.51.32___am.png\n",
    "\n",
    "## Call to Algorithm Request \n",
    "-  Discuss the call/request to the method with Algorithm (fetch to endpoint).\n",
    "<br> <img width=\"646\" alt=\"Image\" src=https://cs-p-hq.slack.com/files/U07JAH04LJD/F08AMM12W2K/screenshot_2025-01-30_at_10.53.21___am.png\n",
    "\n",
    "- Discuss the return/response from the method with Algorithm (fetch) and how you handle data.\n",
    "<br> <img width=\"646\" alt=\"Image\" src=https://cs-p-hq.slack.com/files/U07JAH04LJD/F08AMM29XF1/screenshot_2025-01-30_at_10.53.35___am.png\n",
    "\n",
    "- Show how changing data or method triggers a different response, specifically normal conditions and error conditions.\n",
    "<br> <img width=\"646\" alt=\"Image\" src=https://cs-p-hq.slack.com/files/U07JAH04LJD/F08BETX3A5P/screenshot_2025-01-30_at_10.54.08___am.png"
   ]
  }
 ],
 "metadata": {
  "language_info": {
   "name": "python"
  }
 },
 "nbformat": 4,
 "nbformat_minor": 2
}
