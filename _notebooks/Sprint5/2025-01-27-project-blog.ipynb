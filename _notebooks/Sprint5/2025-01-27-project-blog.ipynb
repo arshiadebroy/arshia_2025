{
 "cells": [
  {
   "cell_type": "markdown",
   "metadata": {},
   "source": [
    "---\n",
    "layout: post\n",
    "title: Live Review Blog \n",
    "description: Individual and Group accomplishments  \n",
    "courses: { csp: {week:1} }\n",
    "comments: true \n",
    "sticky_rank: 1\n",
    "---"
   ]
  },
  {
   "cell_type": "markdown",
   "metadata": {},
   "source": [
    "## Individual Features \n",
    "- Throughout our process of making this website, I helped my team organize things we were supposed to complete on the Kanban board as well as helping complete the frontend on San Diego and other parts of our website. \n",
    "- As for backend, I helped format the reviews that connect from frontend to backend, and help users post reviews of the foods that they have tried from each country. "
   ]
  },
  {
   "cell_type": "markdown",
   "metadata": {
    "vscode": {
     "languageId": "plaintext"
    }
   },
   "source": [
    "## Group Program\n",
    "- We worked together to create our restaurant review website through tracking our goals through a Kanban board and burndown issues, then following through by collaborating to design every feature on our website \n",
    "## Input/Output\n",
    "- We implemented a posting feature that enables seamless API requests and responses. For instance, using tools like Postman, we can input a URL, such as http://127.0.0.1:8887/api/food, which retrieves and displays all the data within the \"food\" class from our backend code. \n",
    "- Our database operations rely on SQLite, where tables are created, saved, and restored using specific commands: db_init, db_backup, and db_restore.\n",
    "db_init: Initializes and creates the tables.\n",
    "db_backup: Saves the current state of the tables for future use.\n",
    "db_restore: Rebuilds the tables from the saved backup\n",
    "## List Requests \n",
    "- For our \"About Me\" page, we structured the group's names and role assignments as basic JSON data. This data was then transformed into an API by attaching it to a designated API URL. When this URL is linked to the frontend, it renders as part of the user interface. Each group member is defined as a separate class in the backend, which results in individual columns displayed in the frontend UI.\n",
    "- Columns within our database were managed using CRUD methods, alongside the creation of unique classes. On the \"About Me\" page, each group member's data corresponds to its own class, making it easier to display distinct columns in the frontend. \n",
    "## Algorithmic Request \n",
    "- To display data on the \"About Me\" page, we utilized methods like GET, POST, and PULL in the frontend code. The URL path associated with these methods fetches the required backend data and displays it on the website. The backend processes the request body, converts it to JSON format, and sends it to the frontend for rendering.\n",
    "## Call to Algorithm Request \n",
    "- Using Postman, we introduced breakpoints to test and debug our API. Errors captured by Postman during these tests provided valuable insights, helping us refine our data-handling processes. For instance, when modifying backend files, changes in SQLite tables are immediately reflected in the frontend. Editing tester data and remaking the tables ensures that the updated information is accurately displayed.\n",
    "- A key feature of our implementation is the dynamic connection between the backend and frontend. Any alterations made to backend data, such as updating SQLite tables, directly impact the displayed information. For example, changing tester data in the backend and then rebuilding the tables causes the frontend to reflect these updates instantly. "
   ]
  }
 ],
 "metadata": {
  "language_info": {
   "name": "python"
  }
 },
 "nbformat": 4,
 "nbformat_minor": 2
}
