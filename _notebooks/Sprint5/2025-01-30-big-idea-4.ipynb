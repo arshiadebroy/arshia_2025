{
 "cells": [
  {
   "cell_type": "markdown",
   "metadata": {
    "vscode": {
     "languageId": "plaintext"
    }
   },
   "source": [
    "---\n",
    "layout: post\n",
    "title: College Board Notes \n",
    "description: Big Ideas and Key terms \n",
    "courses: { csp: {week:1} }\n",
    "comments: true \n",
    "sticky_rank: 1\n",
    "---"
   ]
  },
  {
   "cell_type": "markdown",
   "metadata": {
    "vscode": {
     "languageId": "plaintext"
    }
   },
   "source": [
    "## 5 things from this Trimester\n",
    "- 1. When we started our project, I created the Kanban board and helped organize our plans through stories. I was also able to create conversations around how we wanted to format our website and what we wanted to make it about \n",
    "<style>\n",
    ".button {\n",
    "  background-color: #ff6eb2; /* Green */\n",
    "  border: none;\n",
    "  color: purple;\n",
    "  padding: 20px;\n",
    "  text-align: center;\n",
    "  text-decoration: none;\n",
    "  display: inline-block;\n",
    "  font-size: 16px;\n",
    "  margin: 4px 2px;\n",
    "  cursor: pointer;\n",
    "}\n",
    "\n",
    ".button1 {border-radius: 12px;}\n",
    "</style>\n",
    "\n",
    "\n",
    "<div>\n",
    "</div>\n",
    "<a href=\"https://github.com/users/arshiadebroy/projects/1\">\n",
    "<button class=\"button button1\">Kanban Board</button>\n",
    "</a>\n",
    "\n",
    "\n",
    "- 2. When we developed our website, I helped make some of the basic frontend as well as creating San Diego frontend for our team. This allowed us to set in how we wanted our website to appear before we jumped into each feature\n",
    "\n",
    "<div>\n",
    "</div>\n",
    "<a href=\"https://prajnar123123213.github.io/restaurant_frontend/san_diego/home\">\n",
    "<button class=\"button button1\">San Diego</button>\n",
    "</a>\n",
    "\n",
    "- 3. When we were creating our Big Ideas video that went over how our project met CPT requirements, I created a poster that discussed how the backend and frontend were related to each other as well as helping plan each part of the video. This helped me explain the backend to my teammates and helped give the team an idea of how our project met CPT requirements \n",
    "\n",
    "\n",
    "- 4. I created a random recipe generator by connecting the feature in the frontend to an api that had common foods found in San Diego. I was also able to use Postman to see every item in the list and make sure it fit with the foods people enjoy in San Diego \n",
    "\n",
    "\n",
    "- 5. When our team was working on deployment, I went into the backend and figured out how to edit the frontpage of our official website and connect it to the website we had made previously. \n",
    "\n",
    "\n"
   ]
  },
  {
   "cell_type": "markdown",
   "metadata": {},
   "source": [
    "## 4.1 Notes (Video 1)\n",
    "- Computers evolved overtime and became smaller and smaller, using routers and other devices to help communicate\n",
    "- Computers \"talk\" to each other through using number systems and they are chopped into ones and zeros in order to be transferred. \n",
    "- A packet is the group of numbers being communicated\n",
    "- A computer network is a group of interconnected computing devices capable of sending data \n",
    "- Packet Switching- The message (file) is broken up into packets and sent in any order. The packets are reassembled by the recipient's device. \n",
    "- A path between two computing devices on a computer network (a sender and receiver) is a sequence of directly connected computing devices that begins at the sender and ends at the receiver. \n",
    "- Routing- is the process of finding the path \n",
    "- Computers need to communicate in order to make things easier and packets are used to help move information in bits \n",
    "- <br>  <img width=\"302\" alt=\"Image\" src=https://networkencyclopedia.com/wp-content/uploads/2019/10/packet-switching.png"
   ]
  },
  {
   "cell_type": "markdown",
   "metadata": {
    "vscode": {
     "languageId": "plaintext"
    }
   },
   "source": [
    "## 4.1 Notes (Video 2)\n",
    "- Internet Engineering Task Force manages the development of standards and technical discussions concerning the internet in an open and collaborative process\n",
    "- OSI (Open Systems Interconnect) the layers you have to go through to connect which have 7 groups of protocols \n",
    "- TCP (Transmission Control Protocol) which establishes a common standard for how to send messages between devices on the internet \n",
    "- Network Access Layer- this layer deals with the hardwear and starts with something like a card or cable. We will pop on card to another\n",
    "- Internet Protocol Layer- A packet contains data that is being transmitted as well as metadata containing information. It uses an IP address and the information is flowing through the routers. This makes the internet flexible \n",
    "- Transport Layer- TCP is way stricter and uses a three way handshake while UDP is way more relaxed. Under these protocols there are rules and regulations \n",
    "- Application Layer- Programs running on machines connected to the internet and provides clients with webpages \n",
    "- IP address helps packets flow and it helps routers learn where the information needs to go \n",
    "- <br>  <img width=\"302\" alt=\"Image\" src=\"C:\\Users\\debro\\OneDrive\\Pictures\\Screenshots\\Screenshot 2025-01-30 220912.png\"\n",
    "- <br>  <img width=\"302\" alt=\"Image\" src=\"C:\\Users\\debro\\OneDrive\\Pictures\\Screenshots\\Screenshot 2025-01-30 221036.png\""
   ]
  },
  {
   "cell_type": "markdown",
   "metadata": {},
   "source": [
    "## 4.2 Notes (Video 1)\n",
    "- Fault tolerance which is all over the internet and failures in a system \n",
    "- Networks can be connected through wiring to each point, however the more connections we have, the more quickly we can communicate \n",
    "- The less paths we have, the more likely a failure will disconnect the points in the network. \n",
    "- Redundancy causes networks to function even when there is an error, which makes the system fault tolerant. If one path goes down, many devices should still be connected to each other. \n",
    "- If one path being cut off causes the system to break, then the system is flawed and harder to use. Internet is reliable because it is fault tolerant"
   ]
  },
  {
   "cell_type": "markdown",
   "metadata": {
    "vscode": {
     "languageId": "plaintext"
    }
   },
   "source": [
    "## 4.2 Notes (Video 2)\n",
    "- Networks are able to scale when more devices are added. When the networks are all intertwined, the fault tolerant quality makes it so the network can adapt to the number of routes. \n",
    "- Data will not take one route but instead the routes that are quick and working properly. \n",
    "- Redundancy aids a network im staying reliable even when one device or path has an issue. \n",
    "- More connections makes networks stronger and able to scale or grow. The internet is a great example of how fault tolerance can help add more devices easily and combat issues, which can lead to more success. "
   ]
  },
  {
   "cell_type": "markdown",
   "metadata": {
    "vscode": {
     "languageId": "plaintext"
    }
   },
   "source": [
    "## 4.3 Notes \n",
    "- Computer has lots of jobs and tasks to complete, system tasks are what keeps a computer running while user tasks are programs that user selects and the computer aids them in completing \n",
    "- Tasks are done with sequential coding because often if you have tasks A, B, C, Task A needs to be complete for Task B to be started, and Task B needs to be completed before starting Task C. \n",
    "- Parallel Computing is a computational model where the program is broken down into multiple sequential computing operations, some of which are performed simultaneously. \n",
    "- This type of coding is hardware driven and has faster operations. It is a more convient way for data to be communicated and is used in lots of games. \n",
    "- Parallel coding makes it so that the longest time for one task in a set of tasks is the total amount of time the tasks will take to be completed, hence being way more official then doing every task. \n",
    "- Distributed Computing is sending tasks from one computer to another and it is a model in which multiple devices are used to run a program. \n",
    "- It allows for sequential and parallel coding to be used together. "
   ]
  },
  {
   "cell_type": "markdown",
   "metadata": {
    "vscode": {
     "languageId": "plaintext"
    }
   },
   "source": [
    "<h1> Our Deployment Plan: </h1>\n",
    "Issue Link- https://github.com/nighthawkcoders/flocker_frontend/issues/247\n",
    "- Secondary Deployment Admin (Prajna):\n",
    "    1. Setup DNS endpoint\n",
    "    2. Application Setup (find port, server, route)\n",
    "- Primary Depolyment Admin (Arshia):\n",
    "    1. Set up the new port, change in all locations\n",
    "    2. Cerbot Config\n",
    "- Mirabelle\n",
    "    1. Prepare frontend access to port and domain\n",
    "    2. Nginx setup\n",
    "- Sanya\n",
    "    1. Changing code in VS Code\n",
    "- Zoe\n",
    "    1. Debugging (Troubleshooting in AWS EC2)\n",
    "- Claire\n",
    "    1. Cockpit Navigation\n",
    "#247 Deployment Roles\n",
    "Arshia- Primary Deployment Admin  \n",
    "Prajna- Secondary Deployment Admin  \n",
    "Mirabelle- Setting up initial steps  \n",
    "Zoe- Debugging  \n",
    "Claire- Cockpit setup  \n",
    "Show more"
   ]
  }
 ],
 "metadata": {
  "language_info": {
   "name": "python"
  }
 },
 "nbformat": 4,
 "nbformat_minor": 2
}
