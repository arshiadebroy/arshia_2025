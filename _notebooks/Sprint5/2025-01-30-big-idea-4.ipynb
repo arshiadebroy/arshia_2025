{
 "cells": [
  {
   "cell_type": "markdown",
   "metadata": {
    "vscode": {
     "languageId": "plaintext"
    }
   },
   "source": [
    "---\n",
    "layout: post\n",
    "title: Trimester 2 Final Blog \n",
    "description: Big Ideas and Key terms \n",
    "courses: { csp: {week:1} }\n",
    "comments: true \n",
    "sticky_rank: 1\n",
    "---"
   ]
  },
  {
   "cell_type": "markdown",
   "metadata": {},
   "source": [
    "## Self Grading\n",
    "\n",
    "| Section                          | Grade                                    |\n",
    "|----------------------------------|--------------------------------------------|\n",
    "| **Frontend**                     | 9/10    |\n",
    "| **Backend**                      | 8/10                                       |\n",
    "| **Deployment**                   | 8/10                                       |\n",
    "| **Collaboration**                 | 10/10                                     |\n",
    "| **Other requirements for ten points** | 9/10                             |\n",
    "\n",
    "- Overall, I would give myself a 9/10 \n",
    "- Despite completing the majority of the list of topics in the slack message and growing a lot throughout this trimester, I don't think that I am very good at every topic we have to know. For instance, I could improve on deployment a lot, as I focused on the frontend development of our deployement page rather then the commands in the cockpit terminal. Even though I understood deployment by the end of the process, I want to focus on improving on it during third tri. \n",
    "- Furthermore, I think I have grown a lot in backend development through learning how to use API endpoints while making our about me page as well as the posting features. I think that I have worked hard throughout this trimester to collaborate with my team and meet all the requirements, however there is a lot I could improve on. This is why I would give myself a 9/10."
   ]
  },
  {
   "cell_type": "markdown",
   "metadata": {},
   "source": [
    "## CPT Requirements \n",
    "- Individual: \n",
    "- I spent a lot of time in the beginning creating a Kanban Board and using agile methodologies to plan our project. We also identified 6 stories that went over the tools that we would need to master in order to have a successful project. This is covered through Big Idea 1 which states how teams should plan their projects in order to be successful. \n",
    "- I covered the testing using Postman, which is in Big Idea 1.4, through my random recipe generator, which uses Postman to see all the different foods in each category of the generator. \n",
    "- I worked on database management through SQLite, (which is covered in Big Idea 2) through creating a table for a part of Africa, which connected to the maps on our explore page. Through this feature, I was able to learn how SQLite tables allow structured storage, making retrieval and manipulation efficient. \n",
    "- As we progressed in our project, I was also able to learn what different commands in the backend such as ./scripts/db_backup.py, ./scripts/db_restore.py, and more\n",
    "\n",
    "- Team: \n",
    "- Big Idea 1.3 also discusses how we should do frontend to backend integration, which is emphasized in our posting feature, which builds the basic structure in the frontend, and connects to a backend which saves the posts in the user.management.db \n",
    "- We also improved applications (also covered in Big Idea 1.3) by using CRUD to develop our posting, test it, and then see what we could change for the next country. \n",
    "- Big Idea 4 also covers deployment strategies, which we worked on as a team. Through commands in the cockpit terminal like docker-compose build, which aids us in creating the secure website, or docker-compose down, which does the opposite. Through this process, we were able to work as a team to understand how to deploy our website so that anyone could access it.  "
   ]
  },
  {
   "cell_type": "markdown",
   "metadata": {
    "vscode": {
     "languageId": "plaintext"
    }
   },
   "source": [
    "## 5 things from this Trimester\n",
    "- When we started our project, I created the Kanban board and helped organize our plans through stories. I was also able to create conversations around how we wanted to format our website and what we wanted to make it about \n",
    "<style>\n",
    ".button {\n",
    "  background-color: #ff6eb2; /* Green */\n",
    "  border: none;\n",
    "  color: purple;\n",
    "  padding: 20px;\n",
    "  text-align: center;\n",
    "  text-decoration: none;\n",
    "  display: inline-block;\n",
    "  font-size: 16px;\n",
    "  margin: 4px 2px;\n",
    "  cursor: pointer;\n",
    "}\n",
    "\n",
    ".button1 {border-radius: 12px;}\n",
    "</style>\n",
    "\n",
    "\n",
    "<div>\n",
    "</div>\n",
    "<a href=\"https://github.com/users/arshiadebroy/projects/1\">\n",
    "<button class=\"button button1\">Kanban Board</button>\n",
    "</a>\n",
    "\n",
    "\n",
    "- When we developed our website, I helped make some of the basic frontend as well as creating San Diego frontend for our team. This allowed us to set in how we wanted our website to appear before we jumped into each feature\n",
    "\n",
    "<div>\n",
    "</div>\n",
    "<a href=\"https://prajnar123123213.github.io/restaurant_frontend/san_diego/home\">\n",
    "<button class=\"button button1\">San Diego</button>\n",
    "</a>\n",
    "\n",
    "- When we were creating our Big Ideas video that went over how our project met CPT requirements, I created a poster that discussed how the backend and frontend were related to each other as well as helping plan each part of the video. This helped me explain the backend to my teammates and helped give the team an idea of how our project met CPT requirements \n",
    "<br> <img width=\"400\" alt=\"Image\" src=\"https://github.com/user-attachments/assets/29d29cbe-4b45-4369-98a3-b3f2a0ded8c6\" />\n",
    "\n",
    "- I created a random recipe generator by connecting the feature in the frontend to an api that had common foods found in San Diego. I was also able to use Postman to see every item in the list and make sure it fit with the foods people enjoy in San Diego \n",
    "\n",
    "\n",
    "- When our team was working on deployment, I went into the backend and figured out how to edit the frontpage of our official website and connect it to the website we had made previously. \n",
    "\n",
    "\n"
   ]
  },
  {
   "cell_type": "markdown",
   "metadata": {
    "vscode": {
     "languageId": "plaintext"
    }
   },
   "source": [
    "## Taking Interests in Other projects \n",
    "- After Night at the Museum, I spent some time contacting the presenter of my favorite project as well as reflecting on some of the other projects that I saw throughout N@tm. Below is an issue where I detail what I learned/thought of each of the projects I looked at in detail. \n",
    "<div>\n",
    "</div>\n",
    "<a href=\"https://github.com/arshiadebroy/arshia_2025/issues/57\">\n",
    "<button class=\"button button1\">N@tM Reflection</button>\n",
    "</a>\n",
    "\n",
    "## Reaching Out to Someone New.\n",
    "- After seeing her project \"The Traveler,\" I reached out to Michelle Kuruvilla and organized an in depth review of our blogs and everything else covered in the Live Review \n",
    "<br> <img width=\"400\" alt=\"Image\" src=\"https://github.com/user-attachments/assets/6e8b0a5d-b562-41f9-9ad1-f138d324ce74\" />\n",
    "\n",
    "<div>\n",
    "</div>\n",
    "<a href=\"https://github.com/arshiadebroy/arshia_2025/issues/56\">\n",
    "<button class=\"button button1\">Reviewing Michelle's Blog</button>\n",
    "</a>\n",
    "\n",
    "<br> <img width=\"400\" alt=\"Image\" src=\"https://github.com/user-attachments/assets/7b1cce82-0e95-4a60-946a-73f755c47816\n",
    "\" />\n",
    "\n",
    "## Individual Strengths and Weaknesses \n",
    "- Strengths: \n",
    "- Great at helping my teammates and aiding my team in problem solving\n",
    "- Great at organizing projects and coming up with new innovative ideas \n",
    "- Throughout this tri I have improved on my knowledge of the backend and became really great at working on the frontend \n",
    "\n",
    "-Weaknesses: \n",
    "- I have a good understanding of things we do in class but lack some fundemental coding knowledge, as this class is my first time coding \n",
    "- Not super great at explaining code in detail and sometimes miss basic information \n",
    "- I need to work on better understanding some college board concepts that I missed on the MCQ \n",
    "\n",
    "## Reflecting on Our Project \n",
    "- Overall, I think our project is very visually appealing to look at and has three standout features that people enjoyed throughout night at the museum and in general. These are the posting feature, the random recipe generators, and the maps that locate different restaurants. The organization of our website into different countries makes it great for viewers to explore the themes and restaurants in each place and leave reviews. \n",
    "- However, many people have given us feedback that says to make the maps more interesting with different colors, and maybe add a different feature to Asia and South America.\n",
    "- For future plans, I think we will focus on developing the explore more page on Asia and South America, to create something new and further our understanding. \n",
    "<br> <img width=\"400\" alt=\"Image\" src=\"https://github.com/user-attachments/assets/30632bdf-8e3b-41db-a565-05ae04db59f6\" />\n",
    "\n",
    "## Compsci In the Future \n",
    "- I am currently planning on potentially taking CSA, as it is a continuation of this class. \n",
    "- I have started building a resume for internships as well as researching places where I can progress my Computer Science knowledge and the stuff I have learned in this class is helpful \n",
    "- There aren't many classes that have you present your work in a format where you just talk about what you know or collaborate with your team, so this class has helped build those skills. \n",
    "- I hope to continue to progress in my computer science knowledge as I continue this class and even beyond it. \n"
   ]
  },
  {
   "cell_type": "markdown",
   "metadata": {},
   "source": [
    "## Project Feature \n",
    "- My project feature is our San Diego random recipe generator which connects to an API which generates new recipe suggestions for users. Using an API connection, the application fetches a randomized recipe each time a user interacts with the system. The response includes an image of the food as well as where you can get it. \n",
    "- The feature analyzes returned data to format and display information in a user-friendly manner, ensuring consistency across multiple queries.\n",
    "- The program follows a logical sequence—sending a request to the API, retrieving structured data, and formatting it for presentation to the user.\n",
    "- The API abstracts complex recipe databases, allowing users to receive relevant information without needing to search manually.\n",
    "- Many people who reviewed our site at Night at the Museum have even commented on how they liked our Random Reciepe Generator. \n",
    "\n",
    "<br> <img width=\"400\" alt=\"Image\" src=\"https://github.com/user-attachments/assets/ee3ece43-2f4e-442b-ba36-54d632daa08b\" />\n",
    "<br> <img width=\"400\" alt=\"Image\" src=\"https://github.com/user-attachments/assets/84d4d8d3-fef3-4922-8785-24ee6a26681b\n",
    "\" />\n",
    "<br> <img width=\"400\" alt=\"Image\" src=\"https://github.com/user-attachments/assets/58c59f54-5efe-4c3b-b862-c6715395f988\" />"
   ]
  }
 ],
 "metadata": {
  "language_info": {
   "name": "python"
  }
 },
 "nbformat": 4,
 "nbformat_minor": 2
}
