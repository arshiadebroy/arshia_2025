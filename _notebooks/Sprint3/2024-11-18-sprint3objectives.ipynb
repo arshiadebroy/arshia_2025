{
 "cells": [
  {
   "cell_type": "markdown",
   "metadata": {
    "vscode": {
     "languageId": "plaintext"
    }
   },
   "source": [
    "---\n",
    "layout: post\n",
    "title: Sprint 3 Objectives \n",
    "description: My journey during Sprint 3 \n",
    "courses: { csp: {week:1} }\n",
    "comments: true \n",
    "sticky_rank: 1\n",
    "---"
   ]
  },
  {
   "cell_type": "markdown",
   "metadata": {},
   "source": [
    "## Sprint 3 Progress \n",
    "- Over the course of Sprint 3, I was able to further collaborate with my team and create a project that other people could interact with. I think me and my team made the most progress through frontend, by using lots of intricate code and creating a chat room and drawing pad people could use. The hardeest part of this sprint was figuring out the bacend, because it was a system that we didn't know how to use. Eventually, me and my team figured out how to include code to connect the fron tend to the backend, so that when users post something, it gets saved in the backend. "
   ]
  },
  {
   "cell_type": "markdown",
   "metadata": {
    "vscode": {
     "languageId": "plaintext"
    }
   },
   "source": [
    "<style>\n",
    "\n",
    "/* Change color of links on hover */\n",
    ".dropdown-content-a:hover {\n",
    "| background-color: #ddd;\n",
    "}\n",
    "\n",
    "/* Show the dropdown content when the user clicks on the button */\n",
    ".dropdown:hover .dropdown-content {\n",
    "| display: block;\n",
    "}\n",
    "\n",
    "/* Dropdown Button Hover Effect */\n",
    ".dropbtn:hover {\n",
    "| background-color: #ff1493;\n",
    "}\n",
    "\n",
    ".button {\n",
    "  background-color: #ff6eb2; /* Green */\n",
    "  border: none;\n",
    "  color: purple;\n",
    "  padding: 20px;\n",
    "  text-align: center;\n",
    "  text-decoration: none;\n",
    "  display: inline-block;\n",
    "  font-size: 16px;\n",
    "  margin: 4px 2px;\n",
    "  cursor: pointer;\n",
    "}\n",
    "\n",
    ".button1 {border-radius: 12px;}\n",
    "</style>\n",
    "\n",
    "<a href=\"https://github.com/arshiadebroy/arshia_2025/issues/11\">\n",
    "<button class=\"button button1\">Sprint 3 Issue</button>\n",
    "</a>\n",
    "\n"
   ]
  }
 ],
 "metadata": {
  "language_info": {
   "name": "python"
  }
 },
 "nbformat": 4,
 "nbformat_minor": 2
}
