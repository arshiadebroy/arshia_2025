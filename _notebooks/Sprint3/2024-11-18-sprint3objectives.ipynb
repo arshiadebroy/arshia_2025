{
 "cells": [
  {
   "cell_type": "markdown",
   "metadata": {
    "vscode": {
     "languageId": "plaintext"
    }
   },
   "source": [
    "---\n",
    "layout: post\n",
    "title: Sprint 3 Objectives \n",
    "description: My journey during Sprint 3 \n",
    "courses: { csp: {week:1} }\n",
    "comments: true \n",
    "sticky_rank: 1\n",
    "---"
   ]
  }
 ],
 "metadata": {
  "language_info": {
   "name": "python"
  }
 },
 "nbformat": 4,
 "nbformat_minor": 2
}
