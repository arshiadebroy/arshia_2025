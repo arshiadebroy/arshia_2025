{
 "cells": [
  {
   "cell_type": "markdown",
   "metadata": {},
   "source": [
    "---\n",
    "layout: post\n",
    "title: Lesson-3.2 \n",
    "description: All homework for Lessons\n",
    "permalink: 3.2/\n",
    "courses: { csp: {week:1} }\n",
    "comments: true \n",
    "sticky_rank: 1\n",
    "---"
   ]
  },
  {
   "cell_type": "markdown",
   "metadata": {},
   "source": [
    "## Popcorn Hack #1"
   ]
  },
  {
   "cell_type": "code",
   "execution_count": 1,
   "metadata": {},
   "outputs": [
    {
     "name": "stdout",
     "output_type": "stream",
     "text": [
      "1: bananas\n",
      "2: apples\n",
      "3: pears\n"
     ]
    }
   ],
   "source": [
    "# Create a dictionary to map fruit names to their corresponding numbers\n",
    "fruit_dict = {\n",
    "    1: \"bananas\",\n",
    "    2: \"apples\",\n",
    "    3: \"pears\"\n",
    "}\n",
    "\n",
    "# Access values through their corresponding keys\n",
    "print(f\"1: {fruit_dict[1]}\")  # Output: bananas\n",
    "print(f\"2: {fruit_dict[2]}\")  # Output: apples\n",
    "print(f\"3: {fruit_dict[3]}\")  # Output: pears"
   ]
  },
  {
   "cell_type": "markdown",
   "metadata": {},
   "source": [
    "## Popcorn Hack #2"
   ]
  },
  {
   "cell_type": "code",
   "execution_count": 3,
   "metadata": {
    "vscode": {
     "languageId": "javascript"
    }
   },
   "outputs": [
    {
     "data": {
      "application/javascript": "// Simple Calculator in JavaScript\n\nfunction calculator(firstInput, secondInput, operation) {\n    const num1 = parseFloat(firstInput);\n    const num2 = parseFloat(secondInput);\n    \n    switch (operation) {\n        case 'add':\n            return num1 + num2;\n        case 'subtract':\n            return num1 - num2;\n        case 'multiply':\n            return num1 * num2;\n        case 'divide':\n            return num2 !== 0 ? num1 / num2 : 'Error: Division by zero';\n        default:\n            return 'Error: Invalid operation';\n    }\n}\n\n// Example usage:\nconst firstInput = process.argv[2]; // First number\nconst secondInput = process.argv[3]; // Second number\nconst operation = process.argv[4];    // Operation: add, subtract, multiply, divide\n\nconst result = calculator(firstInput, secondInput, operation);\nconsole.log('Result:', result);\n",
      "text/plain": [
       "<IPython.core.display.Javascript object>"
      ]
     },
     "metadata": {},
     "output_type": "display_data"
    }
   ],
   "source": [
    "%%javascript\n",
    "// Simple Calculator in JavaScript\n",
    "\n",
    "function calculator(firstInput, secondInput, operation) {\n",
    "    const num1 = parseFloat(firstInput);\n",
    "    const num2 = parseFloat(secondInput);\n",
    "    \n",
    "    switch (operation) {\n",
    "        case 'add':\n",
    "            return num1 + num2;\n",
    "        case 'subtract':\n",
    "            return num1 - num2;\n",
    "        case 'multiply':\n",
    "            return num1 * num2;\n",
    "        case 'divide':\n",
    "            return num2 !== 0 ? num1 / num2 : 'Error: Division by zero';\n",
    "        default:\n",
    "            return 'Error: Invalid operation';\n",
    "    }\n",
    "}\n",
    "\n",
    "// Example usage:\n",
    "const firstInput = process.argv[2]; // First number\n",
    "const secondInput = process.argv[3]; // Second number\n",
    "const operation = process.argv[4];    // Operation: add, subtract, multiply, divide\n",
    "\n",
    "const result = calculator(firstInput, secondInput, operation);\n",
    "console.log('Result:', result);"
   ]
  },
  {
   "cell_type": "code",
   "execution_count": 4,
   "metadata": {},
   "outputs": [
    {
     "name": "stdout",
     "output_type": "stream",
     "text": [
      "Result: 2.0\n"
     ]
    }
   ],
   "source": [
    "# Simple Calculator in Python\n",
    "\n",
    "def calculator(first_input, second_input, operation):\n",
    "    num1 = float(first_input)\n",
    "    num2 = float(second_input)\n",
    "    \n",
    "    if operation == 'add':\n",
    "        return num1 + num2\n",
    "    elif operation == 'subtract':\n",
    "        return num1 - num2\n",
    "    elif operation == 'multiply':\n",
    "        return num1 * num2\n",
    "    elif operation == 'divide':\n",
    "        return num1 / num2 if num2 != 0 else 'Error: Division by zero'\n",
    "    else:\n",
    "        return 'Error: Invalid operation'\n",
    "\n",
    "# Example usage:\n",
    "first_input = input(\"Enter first number: \")\n",
    "second_input = input(\"Enter second number: \")\n",
    "operation = input(\"Enter operation (add, subtract, multiply, divide): \")\n",
    "\n",
    "result = calculator(first_input, second_input, operation)\n",
    "print('Result:', result)"
   ]
  },
  {
   "cell_type": "markdown",
   "metadata": {},
   "source": [
    "## Popcorn Hack #3"
   ]
  },
  {
   "cell_type": "code",
   "execution_count": 5,
   "metadata": {},
   "outputs": [
    {
     "name": "stdout",
     "output_type": "stream",
     "text": [
      "['hellohellohello', 'worldworldworld', 'pythonpythonpython']\n"
     ]
    }
   ],
   "source": [
    "def repeat_strings(strings, n):\n",
    "    # Repeat each string n times and return a new list\n",
    "    return [s * n for s in strings]\n",
    "\n",
    "# Example usage:\n",
    "original_list = [\"hello\", \"world\", \"python\"]\n",
    "n = 3\n",
    "new_list = repeat_strings(original_list, n)\n",
    "print(new_list)  # Output: ['hellohellohello', 'worldworldworld', 'pythonpythonpython']"
   ]
  },
  {
   "cell_type": "markdown",
   "metadata": {},
   "source": [
    "## Popcorn Hack #4"
   ]
  },
  {
   "cell_type": "code",
   "execution_count": 6,
   "metadata": {},
   "outputs": [
    {
     "name": "stdout",
     "output_type": "stream",
     "text": [
      "True\n"
     ]
    }
   ],
   "source": [
    "def compare_sets(set1, set2):\n",
    "    # Check if there is any value in set2 that is in set1\n",
    "    return any(value in set1 for value in set2)\n",
    "\n",
    "# Example usage:\n",
    "set1 = {1, 2, 3, 4, 5}\n",
    "set2 = {5, 6, 7}\n",
    "\n",
    "result = compare_sets(set1, set2)\n",
    "print(result)  # Output: True"
   ]
  },
  {
   "cell_type": "markdown",
   "metadata": {},
   "source": [
    "## Homework Hacks"
   ]
  },
  {
   "cell_type": "code",
   "execution_count": 7,
   "metadata": {},
   "outputs": [
    {
     "name": "stdout",
     "output_type": "stream",
     "text": [
      "{'name': 'Arshia', 'age': 16, 'city': 'San Diego', 'favorite_color': 'blue'}\n"
     ]
    }
   ],
   "source": [
    "# Part 1: Create a Profile Information (dict)\n",
    "name = \"Arshia\"\n",
    "age = 16\n",
    "city = \"San Diego\"\n",
    "favorite_color = \"blue\"\n",
    "\n",
    "profile = {\n",
    "    \"name\": name,\n",
    "    \"age\": age,\n",
    "    \"city\": city,\n",
    "    \"favorite_color\": favorite_color\n",
    "}\n",
    "\n",
    "print(profile)  # Displaying the profile"
   ]
  },
  {
   "cell_type": "code",
   "execution_count": 8,
   "metadata": {},
   "outputs": [
    {
     "name": "stdout",
     "output_type": "stream",
     "text": [
      "['reading', 'singing', 'painting']\n"
     ]
    }
   ],
   "source": [
    "# Part 2: Create a List of Hobbies (list)\n",
    "hobbies = [\"reading\", \"singing\", \"painting\"]\n",
    "print(hobbies)  # Output: ['reading', 'singing', 'painting']"
   ]
  },
  {
   "cell_type": "code",
   "execution_count": 9,
   "metadata": {},
   "outputs": [
    {
     "name": "stdout",
     "output_type": "stream",
     "text": [
      "{'name': 'Arshia', 'age': 16, 'city': 'San Diego', 'favorite_color': 'blue', 'hobbies': ['reading', 'singing', 'painting']}\n"
     ]
    }
   ],
   "source": [
    "# Part 3: Add Hobbies to Profile (dict and list)\n",
    "profile[\"hobbies\"] = hobbies\n",
    "print(profile)  # Displaying the updated profile"
   ]
  },
  {
   "cell_type": "code",
   "execution_count": 10,
   "metadata": {},
   "outputs": [
    {
     "name": "stdout",
     "output_type": "stream",
     "text": [
      "Is painting available today? True\n"
     ]
    }
   ],
   "source": [
    "# Part 4: Check Availability of a Hobby (bool)\n",
    "chosen_hobby = \"painting\"\n",
    "has_hobby = True  # Assuming it's available today\n",
    "print(f\"Is {chosen_hobby} available today? {has_hobby}\")\n"
   ]
  },
  {
   "cell_type": "code",
   "execution_count": 11,
   "metadata": {},
   "outputs": [
    {
     "name": "stdout",
     "output_type": "stream",
     "text": [
      "I have 3 hobbies.\n"
     ]
    }
   ],
   "source": [
    "# Part 5: Total Number of Hobbies (int)\n",
    "total_hobbies = len(hobbies)\n",
    "print(f\"I have {total_hobbies} hobbies.\")"
   ]
  },
  {
   "cell_type": "code",
   "execution_count": 12,
   "metadata": {},
   "outputs": [
    {
     "name": "stdout",
     "output_type": "stream",
     "text": [
      "('reading', 'painting')\n"
     ]
    }
   ],
   "source": [
    "# Part 6: Favorite Hobbies (tuple)\n",
    "favorite_hobbies = (\"reading\", \"painting\")\n",
    "print(favorite_hobbies)  # Output: ('reading', 'painting')"
   ]
  },
  {
   "cell_type": "code",
   "execution_count": 13,
   "metadata": {},
   "outputs": [
    {
     "name": "stdout",
     "output_type": "stream",
     "text": [
      "{'creativity', 'problem-solving', 'communication'}\n"
     ]
    }
   ],
   "source": [
    "# Part 7: Add a New Item to Your Profile (set)\n",
    "skills = {\"communication\", \"problem-solving\", \"creativity\"}\n",
    "print(skills)  # Displaying the set of skills"
   ]
  },
  {
   "cell_type": "code",
   "execution_count": 16,
   "metadata": {},
   "outputs": [
    {
     "name": "stdout",
     "output_type": "stream",
     "text": [
      "None\n"
     ]
    }
   ],
   "source": [
    "# Part 8: Decide to Add a New Skill (NoneType)\n",
    "new_skill = None  # Haven't decided yet\n",
    "print(new_skill)  # Output: None"
   ]
  },
  {
   "cell_type": "code",
   "execution_count": 17,
   "metadata": {},
   "outputs": [
    {
     "name": "stdout",
     "output_type": "stream",
     "text": [
      "The total cost to develop hobbies and skills is $45.00.\n"
     ]
    }
   ],
   "source": [
    "# Part 9: Calculate Total Profile Cost (float)\n",
    "hobby_cost = 5.0\n",
    "skill_cost = 10.0\n",
    "\n",
    "total_cost = (total_hobbies * hobby_cost) + (len(skills) * skill_cost)\n",
    "print(f\"The total cost to develop hobbies and skills is ${total_cost:.2f}.\")"
   ]
  }
 ],
 "metadata": {
  "kernelspec": {
   "display_name": "Python 3",
   "language": "python",
   "name": "python3"
  },
  "language_info": {
   "codemirror_mode": {
    "name": "ipython",
    "version": 3
   },
   "file_extension": ".py",
   "mimetype": "text/x-python",
   "name": "python",
   "nbconvert_exporter": "python",
   "pygments_lexer": "ipython3",
   "version": "3.10.12"
  }
 },
 "nbformat": 4,
 "nbformat_minor": 2
}
