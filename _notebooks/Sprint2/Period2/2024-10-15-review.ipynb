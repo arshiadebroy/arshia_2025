{
 "cells": [
  {
   "cell_type": "markdown",
   "metadata": {},
   "source": [
    "## Progress \n",
    "- Through taking this course, I have been able to grow as an individual as well as progress my coding skills.\n",
    "- When I first arrived in this class, I had no idea what a directory was or how to create anything using code. Everything we were discussing in class felt unknown and I thought the assignments were hard becuase I didn't know anything. The first two weeks when we were setting up our directories and creating our webpages, I had a few errors and had to to re-setup my workspace a few times. For a bit I felt discouraged. However I took my feelings of frustration and stress and decided to put my best foot forward. This allowed me to learn all the different materials being taught in class and master them. \n",
    "- Then we started sprint 1 and as we went through the steps of creating our own webpage, I got more comfotable with creating things through code and interpreting what was being said to me in class. I honestly had a great time creating my about me page and adding details that really highlighted parts of my personality. \n",
    "- Finally, throughout sprint 2, I felt as though I was able to take my skills as an individual and put them towards building a stronger team. I was able to go from not knowing much about code to becoming my team's scrummaster and working on a huge chunk of ur team teach. Throughout this process I also had to restart and setup my kasm workspace a bunch of times as well as go back and resync our teams code before pull requesting, however, in the end I felt acomplished. Overall, through every sprint I felt like I learned something new due to this class allowing my to actually include pieces of myself in each projet and collaborate with a great group of people. "
   ]
  }
 ],
 "metadata": {
  "language_info": {
   "name": "python"
  }
 },
 "nbformat": 4,
 "nbformat_minor": 2
}
