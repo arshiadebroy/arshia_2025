{
 "cells": [
  {
   "cell_type": "markdown",
   "metadata": {},
   "source": [
    "---\n",
    "layout: post\n",
    "title: Reflection \n",
    "description: Reflection of my Journey\n",
    "courses: { csp: {week:1} }\n",
    "comments: true \n",
    "sticky_rank: 1\n",
    "---"
   ]
  },
  {
   "cell_type": "markdown",
   "metadata": {},
   "source": [
    "## Progress \n",
    "- Through taking this course, I have been able to grow as an individual as well as progress my coding skills.\n",
    "- When I first arrived in this class, I had no idea what a directory was or how to create anything using code. Everything we were discussing in class felt unknown and I thought the assignments were hard becuase I didn't know anything. The first two weeks when we were setting up our directories and creating our webpages, I had a few errors and had to to re-setup my workspace a few times. For a bit I felt discouraged. However I took my feelings of frustration and stress and decided to put my best foot forward. This allowed me to learn all the different materials being taught in class and master them. \n",
    "- Then we started sprint 1 and as we went through the steps of creating our own webpage, I got more comfotable with creating things through code and interpreting what was being said to me in class. I honestly had a great time creating my about me page and adding details that really highlighted parts of my personality. \n",
    "- Finally, throughout sprint 2, I felt as though I was able to take my skills as an individual and put them towards building a stronger team. I was able to go from not knowing much about code to becoming my team's scrummaster and working on a huge chunk of ur team teach. Throughout this process I also had to restart and setup my kasm workspace a bunch of times as well as go back and resync our teams code before pull requesting, however, in the end I felt acomplished. Overall, through every sprint I felt like I learned something new due to this class allowing my to actually include pieces of myself in each projet and collaborate with a great group of people. "
   ]
  },
  {
   "cell_type": "markdown",
   "metadata": {},
   "source": [
    " | **Assignment**          | **Weightage** | **Grade** | **Comments** |\n",
    "|-------------------------|---------------|-----------|--------------|\n",
    "| College Board Coverage  | 20            | 20       | My group covered all of the 4 loops we were required to cover and also decided to add 4 other types of loops so that our classmates had more material to learn         |\n",
    "| Python Examples         | 15            | 14     |  All of our Python examples were correct and I feel like I am mostly comfortable with using Python        |\n",
    "| JavaScript Examples     | 15            | 13       | Though I understand Javascript, I feel like sometimes there can be errors in my code I need to fix and ways I can improve on using Javascript         |\n",
    "| Popcorn Hack Usage      | 10            | 10        |  My team included all the required popcorn hacks and even went above and beyond and added more.          |\n",
    "| Homework                | 10            | 10      | Our homework was a more in depth version of the hacks and also allowed our peers to be more creative        |\n",
    "| Grading Plan            | 10            | 9       | Our grading plan met the requirements but could be a bit more creative          |\n",
    "| Original and Creative    | 10            | 10       | I added Creative ways to use loops and one of my teammates added pink lettering to make our page stand out.          |\n",
    "| **Total**               | **90**        |     85      |              |"
   ]
  },
  {
   "cell_type": "markdown",
   "metadata": {},
   "source": [
    "| **Assignment**             | **Points**    | **Grade** | **Evidence** |\n",
    "|----------------------------|---------------|-----------|--------------|\n",
    "| Baseline Grade             | 55%           |           |              |\n",
    "| Max Grade                  | 90%           |           |              |\n",
    "| Pull Request (Integration) | 1             |      1     |        \n",
    "![image](https://github.com/user-attachments/assets/9cd17703-dab2-46b1-a26d-4eb702490d90)\n",
    "      |\n",
    "| Relevancy Checklist (Peer) | 2             |     2      |       \n",
    "![image](https://github.com/user-attachments/assets/f8cdb0e8-c3e5-40a1-84b5-0ba9a144457e)\n",
    "       |\n",
    "| Lesson Style (Period)      | 1             |     0.5      |        \n",
    "![image](https://github.com/user-attachments/assets/c3abb34a-0c24-4490-8e0f-1a360b366840)\n",
    "      |\n",
    "| Homework, Popcorn Hacks    | 1 x 5         |      5     |       \n",
    "![image](https://github.com/user-attachments/assets/b542b53c-0bde-426c-ab1d-35b43ea85b08)\n",
    "       |\n",
    "| Individual Contribution    | 1             |      1     |       \n",
    "![image](https://github.com/user-attachments/assets/f1b45c4b-fc66-4c84-a9d9-3a0a063b6168)\n",
    "       |\n",
    "| Personal Notebooks / Blogs | 1             |       1    |        \n",
    "![image](https://github.com/user-attachments/assets/0fb02c86-8b3c-43bb-8cb6-c47fca80024b)\n",
    "      |\n",
    "| Total                      | 11            |     10.5      |              |\n",
    "\n",
    "\n",
    "| **Skill**                  | **Points**    | **Grade** | **Evidence** |\n",
    "|----------------------------|---------------|-----------|--------------|\n",
    "| Work Habits (Analytics)    |   1           |     1      |       \n",
    "![image](https://github.com/user-attachments/assets/4d8a23d6-54c4-49d7-abac-50e7d4b49cab)\n",
    "       |\n",
    "| Team Planning (Issue)      |   1           |      1     |       \n",
    "![image](https://github.com/user-attachments/assets/538a293a-b36e-4209-8012-ce93977fc899)\n",
    "       |\n",
    "| Presentation Memories      |   1           |     1      |              |\n",
    "| Grading and Feedback       |   1           |     1      |       \n",
    "![image](https://github.com/user-attachments/assets/c60a90f6-00ec-406c-aee4-7d5cbc434ebd)\n",
    "       |\n",
    "| Beyond Perfunctory         |   1           |     0      |       \n",
    "![image](https://github.com/user-attachments/assets/cca022fb-592d-48f8-9690-3a880440a07d)\n",
    "       | "
   ]
  },
  {
   "cell_type": "markdown",
   "metadata": {},
   "source": [
    "## Homework Grades \n",
    "3.1:0.90\n",
    "3.2:0.90\n",
    "3.3:0.90 \n",
    "3.6:0.90  \n",
    "3.10:0.91\n",
    "\n",
    "- In addition to these grades, I also helped my team by leading the grading process and checking the 3.8.1 Homework and Hacks for everyone that submitted it. "
   ]
  }
 ],
 "metadata": {
  "language_info": {
   "name": "python"
  }
 },
 "nbformat": 4,
 "nbformat_minor": 2
}
