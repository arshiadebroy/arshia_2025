{
 "cells": [
  {
   "cell_type": "markdown",
   "metadata": {},
   "source": [
    "\n",
    "---\n",
    "layout: post\n",
    "title: Homeworks and Popcorn Hacks for Lesson\n",
    "description: All homework for Lessons\n",
    "courses: { csp: {week:1} }\n",
    "comments: true \n",
    "sticky_rank: 1\n",
    "---"
   ]
  },
  {
   "cell_type": "markdown",
   "metadata": {},
   "source": [
    "## Popcorn Hack 1"
   ]
  },
  {
   "cell_type": "code",
   "execution_count": 4,
   "metadata": {},
   "outputs": [
    {
     "name": "stdout",
     "output_type": "stream",
     "text": [
      "Adding Numbers In List Script\n",
      "-------------------------\n",
      "Added 25 to list.\n"
     ]
    }
   ],
   "source": [
    "print(\"Adding Numbers In List Script\")\n",
    "print(\"-\"*25)\n",
    "numlist = []\n",
    "while True:\n",
    "    start = input(\"Would you like to (1) enter numbers (2) add numbers (3) remove last value added or (4) exit: \")\n",
    "    if start == \"1\":\n",
    "        val = input(\"Enter a numeric value: \") # take input while storing it in a variable\n",
    "        try: \n",
    "            test = int(val) # testing to see if input is an integer (numeric)\n",
    "        except:\n",
    "            print(\"Please enter a valid number\")\n",
    "            continue # 'continue' keyword skips to next step of while loop (basically restarting the loop)\n",
    "        numlist.append(int(val)) # append method to add values\n",
    "        print(\"Added \"+val+\" to list.\")\n",
    "    elif start == \"2\":\n",
    "        sum = 0\n",
    "        for num in numlist: # loop through list and add all values to sum variable\n",
    "            sum += num\n",
    "        print(\"Sum of numbers in list is \"+str(sum))\n",
    "    elif start == \"3\":\n",
    "        if len(numlist) > 0: # Make sure there are values in list to remove\n",
    "            print(\"Removed \"+str(numlist[len(numlist)-1])+\" from list.\")\n",
    "            numlist.pop()\n",
    "        else:\n",
    "            print(\"No values to delete\")\n",
    "    elif start == \"4\":\n",
    "        break # Break out of the while loop, or it will continue running forever\n",
    "    else:\n",
    "        continue"
   ]
  },
  {
   "cell_type": "markdown",
   "metadata": {},
   "source": [
    "## Popcorn Hack 2"
   ]
  },
  {
   "cell_type": "markdown",
   "metadata": {},
   "source": [
    "-We discussed in class that this was not possible in VS code "
   ]
  },
  {
   "cell_type": "markdown",
   "metadata": {},
   "source": [
    "## Popccorn Hack 3      "
   ]
  },
  {
   "cell_type": "code",
   "execution_count": 3,
   "metadata": {},
   "outputs": [
    {
     "name": "stdout",
     "output_type": "stream",
     "text": [
      "Little Women with It Ends With Us\n"
     ]
    }
   ],
   "source": [
    "import random\n",
    "\n",
    "# Define main dishes and sides\n",
    "movies = ['Barbie', 'Little Women', 'Titanic', 'Good Will Hunting']\n",
    "books = ['Verity', 'Normal People', 'Harry Potter', 'It Ends With Us']\n",
    "\n",
    "# Create meal combinations using list comprehension\n",
    "hobbies = [f\"{movie} with {book}\" for movie in movies for book in books]\n",
    "\n",
    "# Print a random meal combination\n",
    "print(random.choice(hobbies))"
   ]
  },
  {
   "cell_type": "markdown",
   "metadata": {},
   "source": [
    "## Homework 3.10.1"
   ]
  },
  {
   "cell_type": "code",
   "execution_count": 1,
   "metadata": {},
   "outputs": [
    {
     "name": "stdout",
     "output_type": "stream",
     "text": [
      "Current list: [10, 'hello', 3.14, True, [1, 2, 3], {'key': 'value'}, None]\n",
      "Removed item: 3.14\n",
      "Updated list: [10, 'hello', True, [1, 2, 3], {'key': 'value'}, None]\n"
     ]
    }
   ],
   "source": [
    "# Predefined list containing various data types\n",
    "data_list = [10, \"hello\", 3.14, True, [1, 2, 3], {\"key\": \"value\"}, None]\n",
    "\n",
    "def remove_item_from_list(data, index):\n",
    "    # Check if index is valid\n",
    "    if 0 <= index < len(data):\n",
    "        removed_item = data.pop(index)\n",
    "        print(f\"Removed item: {removed_item}\")\n",
    "    else:\n",
    "        print(\"Invalid index. Please enter a number between 0 and\", len(data) - 1)\n",
    "\n",
    "def main():\n",
    "    print(\"Current list:\", data_list)\n",
    "    try:\n",
    "        # Get user input\n",
    "        user_input = input(\"Enter an index number to remove the item from the list: \")\n",
    "        index = int(user_input)  # Convert input to integer\n",
    "        \n",
    "        # Remove item from the list\n",
    "        remove_item_from_list(data_list, index)\n",
    "        \n",
    "        # Display updated list\n",
    "        print(\"Updated list:\", data_list)\n",
    "\n",
    "    except ValueError:\n",
    "        print(\"Invalid input. Please enter a valid integer.\")\n",
    "\n",
    "if __name__ == \"__main__\":\n",
    "    main()"
   ]
  },
  {
   "cell_type": "markdown",
   "metadata": {},
   "source": [
    "## Homework 3.10.2"
   ]
  },
  {
   "cell_type": "raw",
   "metadata": {},
   "source": [
    "# Initialize a list of 30 numbers\n",
    "numbers = [5, 12, 7, 3, 19, 8, 10, 15, 22, 11, 30, 9, 14, 6, 25, 16, 18, 2, 29, 4, 21, 27, 35, 24, 17, 23, 1, 13, 20, 26]\n",
    "\n",
    "# Initialize variables for sums\n",
    "sum_even = 0\n",
    "sum_odd = 0\n",
    "\n",
    "# Loop through each number in the list\n",
    "for number in numbers:\n",
    "    if number % 2 == 0:\n",
    "        sum_even += number  # Add to sum_even\n",
    "    else:\n",
    "        sum_odd += number   # Add to sum_odd\n",
    "\n",
    "# Output the sums\n",
    "print(\"Sum of even numbers:\", sum_even)\n",
    "print(\"Sum of odd numbers:\", sum_odd)"
   ]
  },
  {
   "cell_type": "code",
   "execution_count": 2,
   "metadata": {},
   "outputs": [
    {
     "name": "stdout",
     "output_type": "stream",
     "text": [
      "Sum of even numbers: 212\n",
      "Sum of odd numbers: 260\n"
     ]
    }
   ],
   "source": [
    "# Initialize a list of 30 numbers\n",
    "numbers = [5, 12, 7, 3, 19, 8, 10, 15, 22, 11, 30, 9, 14, 6, 25, 16, 18, 2, 29, 4, 21, 27, 35, 24, 17, 23, 1, 13, 20, 26]\n",
    "\n",
    "# Initialize variables for sums\n",
    "sum_even = 0\n",
    "sum_odd = 0\n",
    "\n",
    "# Loop through each number in the list\n",
    "for number in numbers:\n",
    "    if number % 2 == 0:\n",
    "        sum_even += number  # Add to sum_even\n",
    "    else:\n",
    "        sum_odd += number   # Add to sum_odd\n",
    "\n",
    "# Output the sums\n",
    "print(\"Sum of even numbers:\", sum_even)\n",
    "print(\"Sum of odd numbers:\", sum_odd)"
   ]
  },
  {
   "cell_type": "markdown",
   "metadata": {},
   "source": [
    "## Homework 3.10.3"
   ]
  },
  {
   "cell_type": "code",
   "execution_count": 3,
   "metadata": {},
   "outputs": [
    {
     "name": "stdout",
     "output_type": "stream",
     "text": [
      "My favorite hobbies:\n",
      "- Reading\n",
      "- Writing\n",
      "- Hiking\n",
      "- Cooking\n",
      "- Photography\n",
      "- Traveling\n",
      "- Gardening\n",
      "- Playing video games\n",
      "- Painting\n",
      "- Yoga\n",
      "\n",
      "Using a while loop:\n",
      "- Reading\n",
      "- Writing\n",
      "- Hiking\n",
      "- Cooking\n",
      "- Photography\n",
      "- Traveling\n",
      "- Gardening\n",
      "- Playing video games\n",
      "- Painting\n",
      "- Yoga\n"
     ]
    }
   ],
   "source": [
    "# List of favorite hobbies\n",
    "favorite_hobbies = [\n",
    "    \"Reading\",\n",
    "    \"Writing\",\n",
    "    \"Hiking\",\n",
    "    \"Cooking\",\n",
    "    \"Photography\",\n",
    "    \"Traveling\",\n",
    "    \"Gardening\",\n",
    "    \"Playing video games\",\n",
    "    \"Painting\",\n",
    "    \"Yoga\"\n",
    "]\n",
    "\n",
    "# Using a for loop to iterate through the list and print each hobby\n",
    "print(\"My favorite hobbies:\")\n",
    "for hobby in favorite_hobbies:\n",
    "    print(\"- \" + hobby)\n",
    "\n",
    "# Using a while loop to iterate through the list\n",
    "print(\"\\nUsing a while loop:\")\n",
    "index = 0\n",
    "while index < len(favorite_hobbies):\n",
    "    print(\"- \" + favorite_hobbies[index])\n",
    "    index += 1"
   ]
  },
  {
   "cell_type": "markdown",
   "metadata": {},
   "source": [
    "## Homework 3.10.4"
   ]
  },
  {
   "cell_type": "code",
   "execution_count": 1,
   "metadata": {},
   "outputs": [
    {
     "name": "stdout",
     "output_type": "stream",
     "text": [
      "Question: Is the sky blue?\n",
      "Answer: Yes\n",
      "\n",
      "Question: Do cats bark?\n",
      "Answer: No\n",
      "\n"
     ]
    }
   ],
   "source": [
    "# List of questions with yes or no answers\n",
    "questions = [\n",
    "    {\"question\": \"Is the sky blue?\", \"answer\": \"Yes\"},\n",
    "    {\"question\": \"Do cats bark?\", \"answer\": \"No\"}\n",
    "]\n",
    "\n",
    "# Display the questions and answers\n",
    "for item in questions:\n",
    "    print(f\"Question: {item['question']}\\nAnswer: {item['answer']}\\n\")"
   ]
  }
 ],
 "metadata": {
  "kernelspec": {
   "display_name": "Python 3",
   "language": "python",
   "name": "python3"
  },
  "language_info": {
   "codemirror_mode": {
    "name": "ipython",
    "version": 3
   },
   "file_extension": ".py",
   "mimetype": "text/x-python",
   "name": "python",
   "nbconvert_exporter": "python",
   "pygments_lexer": "ipython3",
   "version": "3.10.12"
  }
 },
 "nbformat": 4,
 "nbformat_minor": 2
}
