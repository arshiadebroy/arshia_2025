{
 "cells": [
  {
   "cell_type": "markdown",
   "metadata": {},
   "source": [
    "---\n",
    "layout: post\n",
    "title: Lesson-3.3and3.5\n",
    "description: All homework for Lessons\n",
    "permalink: 3.3and3.5\n",
    "courses: { csp: {week:1} }\n",
    "comments: true \n",
    "sticky_rank: 1\n",
    "---"
   ]
  },
  {
   "cell_type": "markdown",
   "metadata": {},
   "source": [
    "## Popcorn Hacks 3.3"
   ]
  },
  {
   "cell_type": "code",
   "execution_count": 3,
   "metadata": {},
   "outputs": [
    {
     "name": "stdout",
     "output_type": "stream",
     "text": [
      "44\n",
      "-8\n",
      "468\n",
      "0.6923076923076923\n",
      "18\n"
     ]
    }
   ],
   "source": [
    "a = 18\n",
    "b = 26\n",
    "\n",
    "print(a + b)\n",
    "print(a - b)\n",
    "print(a * b)\n",
    "print(a / b)\n",
    "print(a % b)"
   ]
  },
  {
   "cell_type": "code",
   "execution_count": 4,
   "metadata": {
    "vscode": {
     "languageId": "javascript"
    }
   },
   "outputs": [
    {
     "data": {
      "application/javascript": "a = 18\nb = 26\n\nprint(a + b)\nprint(a - b)\nprint(a * b)\nprint(a / b)\nprint(a % b)\n",
      "text/plain": [
       "<IPython.core.display.Javascript object>"
      ]
     },
     "metadata": {},
     "output_type": "display_data"
    }
   ],
   "source": [
    "%%javascript\n",
    "a = 18\n",
    "b = 26\n",
    "\n",
    "print(a + b)\n",
    "print(a - b)\n",
    "print(a * b)\n",
    "print(a / b)\n",
    "print(a % b)"
   ]
  },
  {
   "cell_type": "code",
   "execution_count": 5,
   "metadata": {
    "vscode": {
     "languageId": "javascript"
    }
   },
   "outputs": [
    {
     "data": {
      "application/javascript": "function fibonacciIterative(n) {\n    if (n < 0) return undefined; // Handle invalid input\n    if (n === 0) return 0;\n    if (n === 1) return 1;\n\n    let a = 0; // F(0)\n    let b = 1; // F(1)\n\n    for (let i = 2; i <= n; i++) {\n        let next = a + b; // F(n) = F(n-1) + F(n-2)\n        a = b; // Move to next\n        b = next; // Update to new Fibonacci number\n    }\n\n    return b; // F(n)\n}\n\n// Example usage\nlet n = 7; // Change this value to find the nth Fibonacci number\nconsole.log(`Fibonacci(${n}) = ${fibonacciIterative(n)}`);\n",
      "text/plain": [
       "<IPython.core.display.Javascript object>"
      ]
     },
     "metadata": {},
     "output_type": "display_data"
    }
   ],
   "source": [
    "%%javascript\n",
    "function fibonacciIterative(n) {\n",
    "    if (n < 0) return undefined; // Handle invalid input\n",
    "    if (n === 0) return 0;\n",
    "    if (n === 1) return 1;\n",
    "\n",
    "    let a = 0; // F(0)\n",
    "    let b = 1; // F(1)\n",
    "\n",
    "    for (let i = 2; i <= n; i++) {\n",
    "        let next = a + b; // F(n) = F(n-1) + F(n-2)\n",
    "        a = b; // Move to next\n",
    "        b = next; // Update to new Fibonacci number\n",
    "    }\n",
    "\n",
    "    return b; // F(n)\n",
    "}\n",
    "\n",
    "// Example usage\n",
    "let n = 7; // Change this value to find the nth Fibonacci number\n",
    "console.log(`Fibonacci(${n}) = ${fibonacciIterative(n)}`);"
   ]
  },
  {
   "cell_type": "code",
   "execution_count": 6,
   "metadata": {},
   "outputs": [
    {
     "name": "stdout",
     "output_type": "stream",
     "text": [
      "Fibonacci(7) = 13\n"
     ]
    }
   ],
   "source": [
    "def fibonacci_iterative(n):\n",
    "    if n < 0:\n",
    "        return None  # Handle invalid input\n",
    "    if n == 0:\n",
    "        return 0\n",
    "    if n == 1:\n",
    "        return 1\n",
    "\n",
    "    a, b = 0, 1  # F(0) and F(1)\n",
    "    \n",
    "    for _ in range(2, n + 1):\n",
    "        a, b = b, a + b  # Update for next Fibonacci number\n",
    "\n",
    "    return b  # F(n)\n",
    "\n",
    "# Example usage\n",
    "n = 7  # Change this value to find the nth Fibonacci number\n",
    "print(f\"Fibonacci({n}) = {fibonacci_iterative(n)}\")"
   ]
  },
  {
   "cell_type": "markdown",
   "metadata": {},
   "source": [
    "## Homework for 3.3"
   ]
  },
  {
   "cell_type": "code",
   "execution_count": 12,
   "metadata": {},
   "outputs": [],
   "source": [
    "def matrix_mult(A, B):\n",
    "    return [\n",
    "        [A[0][0] * B[0][0] + A[0][1] * B[1][0],\n",
    "         A[0][0] * B[0][1] + A[0][1] * B[1][1]],\n",
    "        [A[1][0] * B[0][0] + A[1][1] * B[1][0],\n",
    "         A[1][0] * B[0][1] + A[1][1] * B[1][1]]\n",
    "    ]\n",
    "\n",
    "def matrix_pow(M, power):\n",
    "    if power == 1:\n",
    "        return M\n",
    "    elif power % 2 == 0:\n",
    "        half_pow = matrix_pow(M, power // 2)\n",
    "        return matrix_mult(half_pow, half_pow)\n",
    "    else:\n",
    "        return matrix_mult(M, matrix_pow(M, power - 1))\n",
    "\n",
    "def fibonacci_matrix(n):\n",
    "    if n < 0:\n",
    "        return None  # Handle invalid input\n",
    "    if n == 0:\n",
    "        return 0\n",
    "    if n == 1:\n",
    "        return 1\n",
    "\n",
    "    M = [[1, 1], [1, 0]]\n",
    "    result = matrix_pow(M, n - 1)\n",
    "    return result[0][0]  # F(n) is located here"
   ]
  },
  {
   "cell_type": "code",
   "execution_count": 13,
   "metadata": {
    "vscode": {
     "languageId": "javascript"
    }
   },
   "outputs": [
    {
     "data": {
      "application/javascript": "2. Java: Fibonacci Using Dynamic Programming\n\npublic class FibonacciDP {\n    \n    // Method to calculate Fibonacci using dynamic programming with optimized space\n    public static long fibonacci(int n) {\n        // Base cases for Fibonacci\n        if (n == 0) return 0;\n        if (n == 1) return 1;\n\n        // Variables to store previous two Fibonacci numbers\n        long prev1 = 1, prev2 = 0;\n        long current = 0;\n\n        // Iteratively calculate Fibonacci\n        for (int i = 2; i <= n; i++) {\n            current = prev1 + prev2;\n            prev2 = prev1;\n            prev1 = current;\n        }\n\n        return current;\n    }\n\n    // Efficient matrix exponentiation approach (O(log n))\n    public static long fibonacciMatrix(int n) {\n        if (n == 0) return 0;\n        \n        long[][] F = { { 1, 1 }, { 1, 0 } };\n        power(F, n - 1);\n\n        return F[0][0];\n    }\n\n    // Helper method to perform matrix exponentiation\n    private static void power(long[][] F, int n) {\n        if (n == 0 || n == 1) return;\n\n        long[][] M = { { 1, 1 }, { 1, 0 } };\n\n        power(F, n / 2);\n        multiply(F, F); // Square the matrix\n\n        if (n % 2 != 0) multiply(F, M); // Multiply by M if n is odd\n    }\n\n    // Matrix multiplication helper\n    private static void multiply(long[][] F, long[][] M) {\n        long x = F[0][0] * M[0][0] + F[0][1] * M[1][0];\n        long y = F[0][0] * M[0][1] + F[0][1] * M[1][1];\n        long z = F[1][0] * M[0][0] + F[1][1] * M[1][0];\n        long w = F[1][0] * M[0][1] + F[1][1] * M[1][1];\n\n        F[0][0] = x;\n        F[0][1] = y;\n        F[1][0] = z;\n        F[1][1] = w;\n    }\n\n    public static void main(String[] args) {\n        int n = 50;\n\n        // Using dynamic programming with optimized space\n        System.out.println(\"Fibonacci number at position \" + n + \" using DP is: \" + fibonacci(n));\n\n        // Using matrix exponentiation (O(log n))\n        System.out.println(\"Fibonacci number at position \" + n + \" using Matrix Exponentiation is: \" + fibonacciMatrix(n));\n    }\n}\n",
      "text/plain": [
       "<IPython.core.display.Javascript object>"
      ]
     },
     "metadata": {},
     "output_type": "display_data"
    }
   ],
   "source": [
    "%%javascript\n",
    "2. Java: Fibonacci Using Dynamic Programming\n",
    "\n",
    "public class FibonacciDP {\n",
    "    \n",
    "    // Method to calculate Fibonacci using dynamic programming with optimized space\n",
    "    public static long fibonacci(int n) {\n",
    "        // Base cases for Fibonacci\n",
    "        if (n == 0) return 0;\n",
    "        if (n == 1) return 1;\n",
    "\n",
    "        // Variables to store previous two Fibonacci numbers\n",
    "        long prev1 = 1, prev2 = 0;\n",
    "        long current = 0;\n",
    "\n",
    "        // Iteratively calculate Fibonacci\n",
    "        for (int i = 2; i <= n; i++) {\n",
    "            current = prev1 + prev2;\n",
    "            prev2 = prev1;\n",
    "            prev1 = current;\n",
    "        }\n",
    "\n",
    "        return current;\n",
    "    }\n",
    "\n",
    "    // Efficient matrix exponentiation approach (O(log n))\n",
    "    public static long fibonacciMatrix(int n) {\n",
    "        if (n == 0) return 0;\n",
    "        \n",
    "        long[][] F = { { 1, 1 }, { 1, 0 } };\n",
    "        power(F, n - 1);\n",
    "\n",
    "        return F[0][0];\n",
    "    }\n",
    "\n",
    "    // Helper method to perform matrix exponentiation\n",
    "    private static void power(long[][] F, int n) {\n",
    "        if (n == 0 || n == 1) return;\n",
    "\n",
    "        long[][] M = { { 1, 1 }, { 1, 0 } };\n",
    "\n",
    "        power(F, n / 2);\n",
    "        multiply(F, F); // Square the matrix\n",
    "\n",
    "        if (n % 2 != 0) multiply(F, M); // Multiply by M if n is odd\n",
    "    }\n",
    "\n",
    "    // Matrix multiplication helper\n",
    "    private static void multiply(long[][] F, long[][] M) {\n",
    "        long x = F[0][0] * M[0][0] + F[0][1] * M[1][0];\n",
    "        long y = F[0][0] * M[0][1] + F[0][1] * M[1][1];\n",
    "        long z = F[1][0] * M[0][0] + F[1][1] * M[1][0];\n",
    "        long w = F[1][0] * M[0][1] + F[1][1] * M[1][1];\n",
    "\n",
    "        F[0][0] = x;\n",
    "        F[0][1] = y;\n",
    "        F[1][0] = z;\n",
    "        F[1][1] = w;\n",
    "    }\n",
    "\n",
    "    public static void main(String[] args) {\n",
    "        int n = 50;\n",
    "\n",
    "        // Using dynamic programming with optimized space\n",
    "        System.out.println(\"Fibonacci number at position \" + n + \" using DP is: \" + fibonacci(n));\n",
    "\n",
    "        // Using matrix exponentiation (O(log n))\n",
    "        System.out.println(\"Fibonacci number at position \" + n + \" using Matrix Exponentiation is: \" + fibonacciMatrix(n));\n",
    "    }\n",
    "}"
   ]
  },
  {
   "cell_type": "markdown",
   "metadata": {
    "vscode": {
     "languageId": "javascript"
    }
   },
   "source": [
    "## Popcorn Hacks for 3.5"
   ]
  },
  {
   "cell_type": "markdown",
   "metadata": {},
   "source": [
    "The contrapositive law is a fundamental principle in logic that states that a conditional statement is logically equivalent to its contrapositive."
   ]
  },
  {
   "cell_type": "code",
   "execution_count": 1,
   "metadata": {},
   "outputs": [
    {
     "name": "stdout",
     "output_type": "stream",
     "text": [
      "If it is sunny, then I have an umbrella (sunny -> umbrella): False\n",
      "If I do not have an umbrella, then it is not sunny (¬umbrella -> ¬sunny): False\n"
     ]
    }
   ],
   "source": [
    "def implication(sunny, umbrella):\n",
    "    return not sunny or umbrella\n",
    "\n",
    "def contrapositive(umbrella, sunny):\n",
    "    return not umbrella or sunny\n",
    "\n",
    "# Example values\n",
    "sunny = True  # It is sunny\n",
    "umbrella = False  # No umbrella taken\n",
    "\n",
    "# Check both\n",
    "print(\"If it is sunny, then I have an umbrella (sunny -> umbrella):\", implication(sunny, umbrella))\n",
    "print(\"If I do not have an umbrella, then it is not sunny (¬umbrella -> ¬sunny):\", contrapositive(not umbrella, not sunny))"
   ]
  },
  {
   "cell_type": "code",
   "execution_count": 3,
   "metadata": {
    "vscode": {
     "languageId": "javascript"
    }
   },
   "outputs": [
    {
     "data": {
      "application/javascript": "def implication(sunny, umbrella):\n    return not sunny or umbrella\n\ndef contrapositive(umbrella, sunny):\n    return not umbrella or sunny\n\n# Example values\nsunny = True  # It is sunny\numbrella = False  # No umbrella taken\n\n# Check both\nprint(\"If it is sunny, then I have an umbrella (sunny -> umbrella):\", implication(sunny, umbrella))\nprint(\"If I do not have an umbrella, then it is not sunny (¬umbrella -> ¬sunny):\", contrapositive(not umbrella, not sunny))\n",
      "text/plain": [
       "<IPython.core.display.Javascript object>"
      ]
     },
     "metadata": {},
     "output_type": "display_data"
    }
   ],
   "source": [
    "%%javascript\n",
    "def implication(sunny, umbrella):\n",
    "    return not sunny or umbrella\n",
    "\n",
    "def contrapositive(umbrella, sunny):\n",
    "    return not umbrella or sunny\n",
    "\n",
    "# Example values\n",
    "sunny = True  # It is sunny\n",
    "umbrella = False  # No umbrella taken\n",
    "\n",
    "# Check both\n",
    "print(\"If it is sunny, then I have an umbrella (sunny -> umbrella):\", implication(sunny, umbrella))\n",
    "print(\"If I do not have an umbrella, then it is not sunny (¬umbrella -> ¬sunny):\", contrapositive(not umbrella, not sunny))"
   ]
  },
  {
   "cell_type": "markdown",
   "metadata": {},
   "source": [
    "## Homework Hacks for 3.5"
   ]
  },
  {
   "cell_type": "code",
   "execution_count": 4,
   "metadata": {},
   "outputs": [
    {
     "name": "stdout",
     "output_type": "stream",
     "text": [
      "Sunny | Umbrella | Sunny & Umbrella | Sunny or Umbrella | Not Sunny | Not (Sunny & Umbrella) | Not (Sunny or Umbrella) | Sunny XOR Umbrella\n",
      "-------------------------------------------------------------------------------------------\n",
      "0     | 0      |       0        |       0       |    True     |            True            |            True            |       False\n",
      "0     | 1      |       0        |       1       |    True     |            True            |            False            |       True\n",
      "1     | 0      |       0        |       1       |    False     |            True            |            False            |       True\n",
      "1     | 1      |       1        |       1       |    False     |            False            |            False            |       False\n"
     ]
    }
   ],
   "source": [
    "class LogicGates:\n",
    "    @staticmethod\n",
    "    def sunny_day(is_sunny, has_umbrella):\n",
    "        return is_sunny and has_umbrella\n",
    "\n",
    "    @staticmethod\n",
    "    def picnic_time(is_sunny, has_umbrella):\n",
    "        return is_sunny or has_umbrella\n",
    "\n",
    "    @staticmethod\n",
    "    def rainy_day(is_sunny):\n",
    "        return not is_sunny\n",
    "\n",
    "    @staticmethod\n",
    "    def unexpected_rain(is_sunny, has_umbrella):\n",
    "        return not (is_sunny and has_umbrella)\n",
    "\n",
    "    @staticmethod\n",
    "    def cloudy_weather(is_sunny, has_umbrella):\n",
    "        return not (is_sunny or has_umbrella)\n",
    "\n",
    "    @staticmethod\n",
    "    def surprise_weather(is_sunny, has_umbrella):\n",
    "        return is_sunny != has_umbrella\n",
    "\n",
    "def truth_table():\n",
    "    print(\"Sunny | Umbrella | Sunny & Umbrella | Sunny or Umbrella | Not Sunny | Not (Sunny & Umbrella) | Not (Sunny or Umbrella) | Sunny XOR Umbrella\")\n",
    "    print(\"-------------------------------------------------------------------------------------------\")\n",
    "    for is_sunny in [0, 1]:\n",
    "        for has_umbrella in [0, 1]:\n",
    "            print(f\"{is_sunny}     | {has_umbrella}      |       {LogicGates.sunny_day(is_sunny, has_umbrella)}        |       {LogicGates.picnic_time(is_sunny, has_umbrella)}       |    {LogicGates.rainy_day(is_sunny)}     |            {LogicGates.unexpected_rain(is_sunny, has_umbrella)}            |            {LogicGates.cloudy_weather(is_sunny, has_umbrella)}            |       {LogicGates.surprise_weather(is_sunny, has_umbrella)}\")\n",
    "\n",
    "if __name__ == \"__main__\":\n",
    "    truth_table()"
   ]
  },
  {
   "cell_type": "code",
   "execution_count": 5,
   "metadata": {
    "vscode": {
     "languageId": "javascript"
    }
   },
   "outputs": [
    {
     "data": {
      "application/javascript": "class LogicGates:\n    @staticmethod\n    def sunny_day(is_sunny, has_umbrella):\n        return is_sunny and has_umbrella\n\n    @staticmethod\n    def picnic_time(is_sunny, has_umbrella):\n        return is_sunny or has_umbrella\n\n    @staticmethod\n    def rainy_day(is_sunny):\n        return not is_sunny\n\n    @staticmethod\n    def unexpected_rain(is_sunny, has_umbrella):\n        return not (is_sunny and has_umbrella)\n\n    @staticmethod\n    def cloudy_weather(is_sunny, has_umbrella):\n        return not (is_sunny or has_umbrella)\n\n    @staticmethod\n    def surprise_weather(is_sunny, has_umbrella):\n        return is_sunny != has_umbrella\n\ndef truth_table():\n    print(\"Sunny | Umbrella | Sunny & Umbrella | Sunny or Umbrella | Not Sunny | Not (Sunny & Umbrella) | Not (Sunny or Umbrella) | Sunny XOR Umbrella\")\n    print(\"-------------------------------------------------------------------------------------------\")\n    for is_sunny in [0, 1]:\n        for has_umbrella in [0, 1]:\n            print(f\"{is_sunny}     | {has_umbrella}      |       {LogicGates.sunny_day(is_sunny, has_umbrella)}        |       {LogicGates.picnic_time(is_sunny, has_umbrella)}       |    {LogicGates.rainy_day(is_sunny)}     |            {LogicGates.unexpected_rain(is_sunny, has_umbrella)}            |            {LogicGates.cloudy_weather(is_sunny, has_umbrella)}            |       {LogicGates.surprise_weather(is_sunny, has_umbrella)}\")\n\nif __name__ == \"__main__\":\n    truth_table()\n",
      "text/plain": [
       "<IPython.core.display.Javascript object>"
      ]
     },
     "metadata": {},
     "output_type": "display_data"
    }
   ],
   "source": [
    "%%javascript\n",
    "class LogicGates:\n",
    "    @staticmethod\n",
    "    def sunny_day(is_sunny, has_umbrella):\n",
    "        return is_sunny and has_umbrella\n",
    "\n",
    "    @staticmethod\n",
    "    def picnic_time(is_sunny, has_umbrella):\n",
    "        return is_sunny or has_umbrella\n",
    "\n",
    "    @staticmethod\n",
    "    def rainy_day(is_sunny):\n",
    "        return not is_sunny\n",
    "\n",
    "    @staticmethod\n",
    "    def unexpected_rain(is_sunny, has_umbrella):\n",
    "        return not (is_sunny and has_umbrella)\n",
    "\n",
    "    @staticmethod\n",
    "    def cloudy_weather(is_sunny, has_umbrella):\n",
    "        return not (is_sunny or has_umbrella)\n",
    "\n",
    "    @staticmethod\n",
    "    def surprise_weather(is_sunny, has_umbrella):\n",
    "        return is_sunny != has_umbrella\n",
    "\n",
    "def truth_table():\n",
    "    print(\"Sunny | Umbrella | Sunny & Umbrella | Sunny or Umbrella | Not Sunny | Not (Sunny & Umbrella) | Not (Sunny or Umbrella) | Sunny XOR Umbrella\")\n",
    "    print(\"-------------------------------------------------------------------------------------------\")\n",
    "    for is_sunny in [0, 1]:\n",
    "        for has_umbrella in [0, 1]:\n",
    "            print(f\"{is_sunny}     | {has_umbrella}      |       {LogicGates.sunny_day(is_sunny, has_umbrella)}        |       {LogicGates.picnic_time(is_sunny, has_umbrella)}       |    {LogicGates.rainy_day(is_sunny)}     |            {LogicGates.unexpected_rain(is_sunny, has_umbrella)}            |            {LogicGates.cloudy_weather(is_sunny, has_umbrella)}            |       {LogicGates.surprise_weather(is_sunny, has_umbrella)}\")\n",
    "\n",
    "if __name__ == \"__main__\":\n",
    "    truth_table()"
   ]
  }
 ],
 "metadata": {
  "kernelspec": {
   "display_name": "venv",
   "language": "python",
   "name": "python3"
  },
  "language_info": {
   "codemirror_mode": {
    "name": "ipython",
    "version": 3
   },
   "file_extension": ".py",
   "mimetype": "text/x-python",
   "name": "python",
   "nbconvert_exporter": "python",
   "pygments_lexer": "ipython3",
   "version": "3.10.12"
  }
 },
 "nbformat": 4,
 "nbformat_minor": 2
}
