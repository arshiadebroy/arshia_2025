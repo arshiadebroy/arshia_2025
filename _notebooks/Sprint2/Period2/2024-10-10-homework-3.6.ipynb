{
 "cells": [
  {
   "cell_type": "markdown",
   "metadata": {},
   "source": [
    "---\n",
    "layout: post\n",
    "title: Lesson-3.6/3.7\n",
    "description: All homework for Lessons\n",
    "permalink: 3.6and3.7\n",
    "courses: { csp: {week:1} }\n",
    "comments: true \n",
    "sticky_rank: 1\n",
    "---"
   ]
  },
  {
   "cell_type": "markdown",
   "metadata": {},
   "source": [
    "## Popcorn Hack #1"
   ]
  },
  {
   "cell_type": "code",
   "execution_count": 1,
   "metadata": {
    "vscode": {
     "languageId": "javascript"
    }
   },
   "outputs": [
    {
     "data": {
      "application/javascript": "if homework_completed:\n    print(\"Great job! You can relax or do something fun.\")\nelse:\n    print(\"Make sure to finish your homework first before taking a break.\")\n",
      "text/plain": [
       "<IPython.core.display.Javascript object>"
      ]
     },
     "metadata": {},
     "output_type": "display_data"
    }
   ],
   "source": [
    "%%javascript\n",
    "if homework_completed:\n",
    "    print(\"Great job! You can relax or do something fun.\")\n",
    "else:\n",
    "    print(\"Make sure to finish your homework first before taking a break.\")\n"
   ]
  },
  {
   "cell_type": "code",
   "execution_count": 11,
   "metadata": {},
   "outputs": [
    {
     "name": "stdout",
     "output_type": "stream",
     "text": [
      "You passed the test!\n"
     ]
    }
   ],
   "source": [
    "score = 89\n",
    "\n",
    "# Conditional statement\n",
    "if score >= 40:\n",
    "    print(\"You passed the test!\")\n",
    "else:\n",
    "    print(\"You failed the test.\")"
   ]
  },
  {
   "cell_type": "markdown",
   "metadata": {},
   "source": [
    "## Popcorn Hack #2"
   ]
  },
  {
   "cell_type": "code",
   "execution_count": 3,
   "metadata": {},
   "outputs": [
    {
     "name": "stdout",
     "output_type": "stream",
     "text": [
      "Eat your donut!\n"
     ]
    }
   ],
   "source": [
    "has_a_donut = True\n",
    "\n",
    "if has_a_donut:\n",
    "    print(\"Eat your donut!\")\n",
    "else:\n",
    "    print(\"You need something to eat\")"
   ]
  },
  {
   "cell_type": "code",
   "execution_count": 4,
   "metadata": {
    "vscode": {
     "languageId": "javascript"
    }
   },
   "outputs": [
    {
     "data": {
      "application/javascript": "has_a_donut = True\n\nif has_a_donut:\n    print(\"Eat your donut!\")\nelse:\n    print(\"You need something to eat\")\n",
      "text/plain": [
       "<IPython.core.display.Javascript object>"
      ]
     },
     "metadata": {},
     "output_type": "display_data"
    }
   ],
   "source": [
    "%%javascript\n",
    "has_a_donut = True\n",
    "\n",
    "if has_a_donut:\n",
    "    print(\"Eat your donut!\")\n",
    "else:\n",
    "    print(\"You need something to eat\")"
   ]
  },
  {
   "cell_type": "markdown",
   "metadata": {},
   "source": [
    "## Popcorn Hack #3"
   ]
  },
  {
   "cell_type": "code",
   "execution_count": 12,
   "metadata": {
    "vscode": {
     "languageId": "javascript"
    }
   },
   "outputs": [
    {
     "data": {
      "application/javascript": "import math\n\n# Generate a random number\nnumber = random.randint(1, 100)\n\nif number % 2 == 0:\n    print(f\"The number {number} is even.\")\nelse:\n    print(f\"The number {number} is odd.\")\n",
      "text/plain": [
       "<IPython.core.display.Javascript object>"
      ]
     },
     "metadata": {},
     "output_type": "display_data"
    }
   ],
   "source": [
    "%%javascript\n",
    "import math\n",
    "\n",
    "# Generate a random number\n",
    "number = random.randint(1, 100)\n",
    "\n",
    "if number % 2 == 0:\n",
    "    print(f\"The number {number} is even.\")\n",
    "else:\n",
    "    print(f\"The number {number} is odd.\")"
   ]
  },
  {
   "cell_type": "code",
   "execution_count": 18,
   "metadata": {},
   "outputs": [
    {
     "name": "stdout",
     "output_type": "stream",
     "text": [
      "You rolled a 6! You win!\n"
     ]
    }
   ],
   "source": [
    "import random\n",
    "\n",
    "# Simulate a dice roll\n",
    "dice_roll = random.randint(1, 6)\n",
    "\n",
    "if dice_roll >= 4:\n",
    "    print(f\"You rolled a {dice_roll}! You win!\")\n",
    "else:\n",
    "    print(f\"You rolled a {dice_roll}. Better luck next time!\")"
   ]
  },
  {
   "cell_type": "markdown",
   "metadata": {},
   "source": [
    "## Popcorn Hack #1 for 3.7"
   ]
  },
  {
   "cell_type": "code",
   "execution_count": 19,
   "metadata": {},
   "outputs": [
    {
     "name": "stdout",
     "output_type": "stream",
     "text": [
      "You can have a book!\n"
     ]
    }
   ],
   "source": [
    "age = int(input(\"Enter your age: \"))\n",
    "likes_books = input(\"Do you like books? (yes/no): \").lower()\n",
    "\n",
    "if age >= 15:\n",
    "    if likes_books == \"yes\":\n",
    "        print(\"You can have a book!\")\n",
    "    else:\n",
    "        print(\"You can't have a book.\")\n",
    "else:\n",
    "    print(\"You watch a movie.\")"
   ]
  },
  {
   "cell_type": "code",
   "execution_count": 20,
   "metadata": {
    "vscode": {
     "languageId": "javascript"
    }
   },
   "outputs": [
    {
     "data": {
      "application/javascript": "age = int(input(\"Enter your age: \"))\nlikes_books = input(\"Do you like books? (yes/no): \").lower()\n\nif age >= 15:\n    if likes_books == \"yes\":\n        print(\"You can have a book!\")\n    else:\n        print(\"You can't have a book.\")\nelse:\n    print(\"You watch a movie.\")\n",
      "text/plain": [
       "<IPython.core.display.Javascript object>"
      ]
     },
     "metadata": {},
     "output_type": "display_data"
    }
   ],
   "source": [
    "%%javascript\n",
    "age = int(input(\"Enter your age: \"))\n",
    "likes_books = input(\"Do you like books? (yes/no): \").lower()\n",
    "\n",
    "if age >= 15:\n",
    "    if likes_books == \"yes\":\n",
    "        print(\"You can have a book!\")\n",
    "    else:\n",
    "        print(\"You can't have a book.\")\n",
    "else:\n",
    "    print(\"You watch a movie.\")"
   ]
  },
  {
   "cell_type": "markdown",
   "metadata": {},
   "source": [
    "## Popcorn Hack #2 for 3.7"
   ]
  },
  {
   "cell_type": "code",
   "execution_count": 21,
   "metadata": {
    "vscode": {
     "languageId": "javascript"
    }
   },
   "outputs": [
    {
     "name": "stdout",
     "output_type": "stream",
     "text": [
      "You can buy lipstick!\n"
     ]
    }
   ],
   "source": [
    "# Savings\n",
    "savings = 50\n",
    "\n",
    "# Makeup prices\n",
    "lipstick_price = 20\n",
    "mascara_price = 17\n",
    "hairbrush_price = 60\n",
    "\n",
    "# Determine which Makeup you can buy\n",
    "if savings >= lipstick_price:\n",
    "    print(\"You can buy lipstick!\")\n",
    "elif savings >= mascara_price:\n",
    "    print(\"You can buy mascara!\")\n",
    "elif savings >= hairbrush_price:\n",
    "    print(\"You can buy an hairbrush!\")\n",
    "else:\n",
    "    print(\"You don't have enough money to buy makeup.\")"
   ]
  },
  {
   "cell_type": "markdown",
   "metadata": {},
   "source": [
    "## Popcorn Hack #3 for 3.7 "
   ]
  },
  {
   "cell_type": "code",
   "execution_count": 22,
   "metadata": {
    "vscode": {
     "languageId": "javascript"
    }
   },
   "outputs": [
    {
     "data": {
      "application/javascript": "// Grocery Conditions\nlet is_store_open = true;\nlet is_fruits_available = false;\n\n// Shopping logic based on store and item availability\nif (is_store_open) {\n    console.log(\"You can go grocery shopping.\");\n\n    if (is_fruits_available) {\n        console.log(\"Buy some fresh fresh fruit.\");\n    } else {\n        console.log(\"Check for other items on your list.\");\n    }\n} else {\n    console.log(\"The store is closed, shop another day.\");\n}\n",
      "text/plain": [
       "<IPython.core.display.Javascript object>"
      ]
     },
     "metadata": {},
     "output_type": "display_data"
    }
   ],
   "source": [
    "%%javascript\n",
    "// Grocery Conditions\n",
    "let is_store_open = true;\n",
    "let is_fruits_available = false;\n",
    "\n",
    "// Shopping logic based on store and item availability\n",
    "if (is_store_open) {\n",
    "    console.log(\"You can go grocery shopping.\");\n",
    "\n",
    "    if (is_fruits_available) {\n",
    "        console.log(\"Buy some fresh fresh fruit.\");\n",
    "    } else {\n",
    "        console.log(\"Check for other items on your list.\");\n",
    "    }\n",
    "} else {\n",
    "    console.log(\"The store is closed, shop another day.\");\n",
    "}"
   ]
  },
  {
   "cell_type": "markdown",
   "metadata": {},
   "source": [
    "## Homework Hacks"
   ]
  },
  {
   "cell_type": "code",
   "execution_count": 24,
   "metadata": {},
   "outputs": [
    {
     "name": "stdout",
     "output_type": "stream",
     "text": [
      "Who wrote 'Romeo and Juliet'?\n",
      "1. Charles Dickens\n",
      "2. William Shakespeare\n",
      "3. Mark Twain\n",
      "4. Jane Austen\n",
      "Wrong! The correct answer was: William Shakespeare\n",
      "\n",
      "Which of these popstars is touring right now?\n",
      "1. Clairo\n",
      "2. Tory Lanez\n",
      "3. Ariana Grande\n",
      "4. Lorde\n",
      "Wrong! The correct answer was: Clairo\n",
      "\n",
      "What is the chemical symbol for water?\n",
      "1. H2O\n",
      "2. O2\n",
      "3. CO2\n",
      "4. NaCl\n",
      "Wrong! The correct answer was: H2O\n",
      "\n",
      "What is the capital of France?\n",
      "1. Berlin\n",
      "2. Madrid\n",
      "3. Paris\n",
      "4. Rome\n",
      "Wrong! The correct answer was: Paris\n",
      "\n",
      "What subject requires the most creativity\n",
      "1. Math\n",
      "2. Biology\n",
      "3. STEM\n",
      "4. English\n",
      "Wrong! The correct answer was: English\n",
      "\n",
      "Your final score is: 0/5\n"
     ]
    }
   ],
   "source": [
    "import random\n",
    "\n",
    "def ask_question(question, options, correct_answer):\n",
    "    print(question)\n",
    "    for i, option in enumerate(options, 1):\n",
    "        print(f\"{i}. {option}\")\n",
    "    \n",
    "    answer = input(\"Choose the correct option (1-4): \")\n",
    "    \n",
    "    if options[int(answer) - 1] == correct_answer:\n",
    "        print(\"Correct!\\n\")\n",
    "        return True\n",
    "    else:\n",
    "        print(f\"Wrong! The correct answer was: {correct_answer}\\n\")\n",
    "        return False\n",
    "\n",
    "def quiz_game():\n",
    "    questions = [\n",
    "        {\n",
    "            \"question\": \"What is the capital of France?\",\n",
    "            \"options\": [\"Berlin\", \"Madrid\", \"Paris\", \"Rome\"],\n",
    "            \"answer\": \"Paris\"\n",
    "        },\n",
    "        {\n",
    "            \"question\": \"What subject requires the most creativity\",\n",
    "            \"options\": [\"Math\", \"Biology\", \"STEM\", \"English\"],\n",
    "            \"answer\": \"English\"\n",
    "        },\n",
    "        {\n",
    "            \"question\": \"Who wrote 'Romeo and Juliet'?\",\n",
    "            \"options\": [\"Charles Dickens\", \"William Shakespeare\", \"Mark Twain\", \"Jane Austen\"],\n",
    "            \"answer\": \"William Shakespeare\"\n",
    "        },\n",
    "        {\n",
    "            \"question\": \"Which of these popstars is touring right now?\",\n",
    "            \"options\": [\"Clairo\", \"Tory Lanez\", \"Ariana Grande\", \"Lorde\"],\n",
    "            \"answer\": \"Clairo\"\n",
    "        },\n",
    "        {\n",
    "            \"question\": \"What is the chemical symbol for water?\",\n",
    "            \"options\": [\"H2O\", \"O2\", \"CO2\", \"NaCl\"],\n",
    "            \"answer\": \"H2O\"\n",
    "        },\n",
    "    ]\n",
    "\n",
    "    random.shuffle(questions)\n",
    "    score = 0\n",
    "    \n",
    "    for q in questions:\n",
    "        if ask_question(q[\"question\"], q[\"options\"], q[\"answer\"]):\n",
    "            score += 1\n",
    "\n",
    "    print(f\"Your final score is: {score}/{len(questions)}\")\n",
    "\n",
    "if __name__ == \"__main__\":\n",
    "    quiz_game()"
   ]
  },
  {
   "cell_type": "code",
   "execution_count": 25,
   "metadata": {},
   "outputs": [
    {
     "name": "stdout",
     "output_type": "stream",
     "text": [
      "Great! You can drink juice after lunch.\n"
     ]
    }
   ],
   "source": [
    "# Input age and whether the child has a ball\n",
    "age = int(input(\"Enter your age: \"))\n",
    "has_fruits = input(\"Do you have fruits? (yes/no): \").lower()\n",
    "\n",
    "# Check if the child can join the game\n",
    "can_eat_lunch = age >= 9 and has_fruits == \"yes\"\n",
    "\n",
    "if can_eat_lunch:\n",
    "    if age < 9:\n",
    "        message = \"You can eat dessert after lunch.\"\n",
    "    else:\n",
    "        message = \"You can drink juice after lunch.\"\n",
    "\n",
    "    print(f\"Great! {message}\")\n",
    "else:\n",
    "    print(\"Sorry, you can't eat lunch\")"
   ]
  }
 ],
 "metadata": {
  "kernelspec": {
   "display_name": "venv",
   "language": "python",
   "name": "python3"
  },
  "language_info": {
   "codemirror_mode": {
    "name": "ipython",
    "version": 3
   },
   "file_extension": ".py",
   "mimetype": "text/x-python",
   "name": "python",
   "nbconvert_exporter": "python",
   "pygments_lexer": "ipython3",
   "version": "3.10.12"
  }
 },
 "nbformat": 4,
 "nbformat_minor": 2
}
