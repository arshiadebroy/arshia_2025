{
 "cells": [
  {
   "cell_type": "markdown",
   "metadata": {},
   "source": [
    "---\n",
    "layout: post\n",
    "title: Blog of Blogs \n",
    "description: Team Issue and Blogs \n",
    "permalink: blogofblogs\n",
    "courses: { csp: {week:1} }\n",
    "comments: true \n",
    "sticky_rank: 1\n",
    "---"
   ]
  },
  {
   "cell_type": "markdown",
   "metadata": {},
   "source": [
    "## Issue Links "
   ]
  },
  {
   "cell_type": "markdown",
   "metadata": {
    "vscode": {
     "languageId": "html"
    }
   },
   "source": [
    "<style>\n",
    ".button {\n",
    "    background-color: #ff6eb2; /* Green */\n",
    "    border: none;\n",
    "    color: purple;\n",
    "    padding: 20px;\n",
    "    text-align: center;\n",
    "    text-decoration: none;\n",
    "    display: inline-block;\n",
    "    font-size: 16px;\n",
    "    margin: 4px 2px;\n",
    "    cursor: pointer;\n",
    "  }\n",
    "  \n",
    "  .button1 {border-radius: 12px;}\n",
    "  </style>\n",
    "  \n",
    "  <a href=\"https://github.com/prajnar123123213/portfolio_2025/issues/9\">\n",
    "  <button class=\"button button1\">Team Issue</button>\n",
    "  </a>\n",
    "  <a href=\"https://arshiadebroy.github.io/arshia_2025/blogs/\">\n",
    "  <button class=\"button button1\">Arshia's Blog</button>\n",
    "  </a>\n",
    "  <a href=\"https://mirabelle2025.github.io/mirabellea_2025/lesson/summary\">\n",
    "  <button class=\"button button1\">Mirabelle's Blog</button>\n",
    "  </a>\n",
    "  <a href=\"https://alexrubio1.github.io/Alex_2025/2024/10/14/summary-of-team-teach_IPYNB_2_.html\">\n",
    "  <button class=\"button button1\">Alex's Blog</button>\n",
    "  </a>\n",
    "  <a href=\"Prajna's Blog\">\n",
    "  <button class=\"button button1\">Prajna's Blog</button>\n",
    "  </a>"
   ]
  }
 ],
 "metadata": {
  "kernelspec": {
   "display_name": "venv",
   "language": "python",
   "name": "python3"
  },
  "language_info": {
   "codemirror_mode": {
    "name": "ipython",
    "version": 3
   },
   "file_extension": ".py",
   "mimetype": "text/x-python",
   "name": "python",
   "nbconvert_exporter": "python",
   "pygments_lexer": "ipython3",
   "version": "3.10.12"
  }
 },
 "nbformat": 4,
 "nbformat_minor": 2
}
