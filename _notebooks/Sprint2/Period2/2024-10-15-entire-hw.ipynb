{
 "cells": [
  {
   "cell_type": "markdown",
   "metadata": {
    "vscode": {
     "languageId": "plaintext"
    }
   },
   "source": [
    "---\n",
    "layout: post\n",
    "title: Lessons and Homework \n",
    "description: All homework for Lessons\n",
    "courses: { csp: {week:1} }\n",
    "comments: true \n",
    "sticky_rank: 1\n",
    "---"
   ]
  },
  {
   "cell_type": "markdown",
   "metadata": {},
   "source": [
    "<table>\n",
    "    <tr>\n",
    "        <td><img src=\"{{site.baseurl}}/images/logo.png\" height=\"60\" title=\"Tools\" alt=\"\"></td>\n",
    "        <td><a href=\"{{site.baseurl}}/3.6and3.7\">Lesson-3.6and3.7</a></td>\n",
    "        <td><a href=\"{{site.baseurl}}/3.3and3.5\">Lesson-3.3and3.5</a></td>\n",
    "        <td><a href=\"{{site.baseurl}}/3.1and3.4\">Lesson-3.1and3.4</a></td>\n",
    "        <td><a href=\"{{site.baseurl}}/3.10/\">Lesson-3.10</a></td>\n",
    "        <td><a href=\"{{site.baseurl}}/3.2/\">Lesson-3.2</a></td>\n",
    "        <td><a href=\"{{site.baseurl}}/blogofblogs/\">Blog of Blogs</a></td>\n",
    "    </tr>\n",
    "</table>"
   ]
  }
 ],
 "metadata": {
  "language_info": {
   "name": "python"
  }
 },
 "nbformat": 4,
 "nbformat_minor": 2
}
