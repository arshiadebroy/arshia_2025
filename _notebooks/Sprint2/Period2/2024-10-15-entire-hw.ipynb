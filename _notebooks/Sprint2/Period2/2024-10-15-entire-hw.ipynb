{
 "cells": [
  {
   "cell_type": "markdown",
   "metadata": {
    "vscode": {
     "languageId": "plaintext"
    }
   },
   "source": [
    "---\n",
    "layout: post\n",
    "title: Lessons and Homework \n",
    "description: All homework for Lessons\n",
    "courses: { csp: {week:1} }\n",
    "comments: true \n",
    "sticky_rank: 1\n",
    "---"
   ]
  },
  {
   "cell_type": "markdown",
   "metadata": {},
   "source": [
    "<style>\n",
    "table {\n",
    "    width: 100%;\n",
    "    border-collapse: collapse;\n",
    "}\n",
    "\n",
    "th, td {\n",
    "    border: 1px solid #ccc;\n",
    "    padding: 10px;\n",
    "    text-align: left;\n",
    "}\n",
    "\n",
    ".details {\n",
    "    display: none; /* Hide details rows by default */\n",
    "    background-color: #f9f9f9;\n",
    "}\n",
    "\n",
    "</style>\n",
    "<script>\n",
    "document.addEventListener('DOMContentLoaded', function() {\n",
    "    const toggles = document.querySelectorAll('.toggle');\n",
    "\n",
    "    toggles.forEach(toggle => {\n",
    "        toggle.addEventListener('click', function() {\n",
    "            const detailsRow = this.closest('tr').nextElementSibling;\n",
    "            if (detailsRow.style.display === 'table-row') {\n",
    "                detailsRow.style.display = 'none';\n",
    "                this.textContent = '+';\n",
    "            } else {\n",
    "                detailsRow.style.display = 'table-row';\n",
    "                this.textContent = '-';\n",
    "            }\n",
    "        });\n",
    "    });\n",
    "});\n",
    "</script>\n",
    "\n",
    "<table>\n",
    "    <tr>\n",
    "        <td><img src=\"{{site.baseurl}}/images/logo.png\" height=\"60\" title=\"Tools\" alt=\"\"></td>\n",
    "        <td><a href=\"{{site.baseurl}}/3.6/\">Lesson-3.6and3.7</a></td>\n",
    "        <td><a href=\"{{site.baseurl}}/3.3/\">Lesson-3.3and3.5</a></td>\n",
    "        <td><a href=\"{{site.baseurl}}/3.1/\">Lesson-3.1and3.4</a></td>\n",
    "        <td><a href=\"{{site.baseurl}}/3.10/\">Lesson-3.10</a></td>\n",
    "        <td><a href=\"{{site.baseurl}}/3.2/\">Lesson-3.2</a></td>\n",
    "        <td><a href=\"{{site.baseurl}}/blogofblogs/\">Blog of Blogs</a></td>\n",
    "    </tr>\n",
    "</table>"
   ]
  },
  {
   "cell_type": "markdown",
   "metadata": {
    "vscode": {
     "languageId": "plaintext"
    }
   },
   "source": [
    "<table id=\"expandable-table\">\n",
    "        <thead>\n",
    "            <tr>\n",
    "                <th></th>\n",
    "                <th>Name</th>\n",
    "                <th>Age</th>\n",
    "            </tr>\n",
    "        </thead>\n",
    "        <tbody>\n",
    "            <tr>\n",
    "                <td><span class=\"toggle\">+</span></td>\n",
    "                <td>John Doe</td>\n",
    "                <td>30</td>\n",
    "            </tr>\n",
    "            <tr class=\"details\">\n",
    "                <td colspan=\"3\">Additional information about John Doe.</td>\n",
    "            </tr>\n",
    "            <tr>\n",
    "                <td><span class=\"toggle\">+</span></td>\n",
    "                <td>Jane Smith</td>\n",
    "                <td>25</td>\n",
    "            </tr>\n",
    "            <tr class=\"details\">\n",
    "                <td colspan=\"3\">Additional information about Jane Smith.</td>\n",
    "            </tr>\n",
    "        </tbody>\n",
    "    </table>"
   ]
  }
 ],
 "metadata": {
  "language_info": {
   "name": "python"
  }
 },
 "nbformat": 4,
 "nbformat_minor": 2
}
