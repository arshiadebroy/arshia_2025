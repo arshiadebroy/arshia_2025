{
 "cells": [
  {
   "cell_type": "markdown",
   "metadata": {},
   "source": [
    "---\n",
    "layout: post\n",
    "title: Lesson-3.1/3.4\n",
    "description: All homework for Lessons\n",
    "permalink: 3.1/3.4\n",
    "courses: { csp: {week:1} }\n",
    "comments: true \n",
    "sticky_rank: 1\n",
    "---"
   ]
  },
  {
   "cell_type": "markdown",
   "metadata": {},
   "source": [
    "## Popcorn Hack #1"
   ]
  },
  {
   "cell_type": "code",
   "execution_count": 1,
   "metadata": {},
   "outputs": [
    {
     "name": "stdout",
     "output_type": "stream",
     "text": [
      "Banana\n"
     ]
    }
   ],
   "source": [
    "# Creating a dictionary of fruits\n",
    "fruits = {\n",
    "    1: \"Apple\",\n",
    "    2: \"Banana\",\n",
    "    3: \"Cherry\"\n",
    "}\n",
    "\n",
    "# Accessing a value using its corresponding key\n",
    "print(fruits[2])  # Output: Banana"
   ]
  },
  {
   "cell_type": "markdown",
   "metadata": {},
   "source": [
    "## Popcorn Hack #2"
   ]
  },
  {
   "cell_type": "code",
   "execution_count": 3,
   "metadata": {},
   "outputs": [
    {
     "name": "stdout",
     "output_type": "stream",
     "text": [
      "Welcome to the Math Quiz!\n",
      "Type 'q' to quit the game.\n"
     ]
    },
    {
     "name": "stdout",
     "output_type": "stream",
     "text": [
      "Please enter a valid number or 'q' to quit.\n",
      "Your final score is: 0\n"
     ]
    }
   ],
   "source": [
    "import random\n",
    "import time\n",
    "\n",
    "def play_game():\n",
    "    score = 0\n",
    "    time_limit = 10  # Time limit for each question in seconds\n",
    "    print(\"Welcome to the Math Quiz!\")\n",
    "    print(\"Type 'q' to quit the game.\")\n",
    "    \n",
    "    while True:\n",
    "        # Generate two random numbers and a random operator\n",
    "        num1 = random.randint(1, 20)\n",
    "        num2 = random.randint(1, 20)\n",
    "        operator = random.choice(['+', '-', '*'])\n",
    "        \n",
    "        # Create the question based on the operator\n",
    "        if operator == '+':\n",
    "            correct_answer = num1 + num2\n",
    "        elif operator == '-':\n",
    "            correct_answer = num1 - num2\n",
    "        else:  # operator == '*'\n",
    "            correct_answer = num1 * num2\n",
    "        \n",
    "        # Ask the question\n",
    "        question = f\"What is {num1} {operator} {num2}? (You have {time_limit} seconds)\"\n",
    "        \n",
    "        start_time = time.time()  # Start the timer\n",
    "        answer = input(question)\n",
    "        elapsed_time = time.time() - start_time  # Calculate elapsed time\n",
    "        \n",
    "        # Check if the player wants to quit\n",
    "        if answer.lower() == 'q':\n",
    "            break\n",
    "        \n",
    "        # Check if time limit exceeded\n",
    "        if elapsed_time > time_limit:\n",
    "            print(\"Time's up! You took too long to answer.\")\n",
    "            print(f\"The correct answer was {correct_answer}.\")\n",
    "            continue  # Skip to the next question\n",
    "        \n",
    "        # Check if the answer is correct\n",
    "        try:\n",
    "            if int(answer) == correct_answer:\n",
    "                print(\"Correct!\")\n",
    "                score += 1\n",
    "            else:\n",
    "                print(f\"Wrong! The correct answer is {correct_answer}.\")\n",
    "        except ValueError:\n",
    "            print(\"Please enter a valid number or 'q' to quit.\")\n",
    "    \n",
    "    # Print the final score\n",
    "    print(f\"Your final score is: {score}\")\n",
    "\n",
    "# Run the game\n",
    "play_game()"
   ]
  },
  {
   "cell_type": "markdown",
   "metadata": {},
   "source": [
    "## Python Homework for 3.1"
   ]
  },
  {
   "cell_type": "code",
   "execution_count": 4,
   "metadata": {},
   "outputs": [
    {
     "name": "stdout",
     "output_type": "stream",
     "text": [
      "Welcome to the Shopping List!\n",
      "Type 'q' to quit adding items.\n",
      "Added cucumbers at $19.00. Total cost is now $19.00.\n",
      "Added avocado at $10.00. Total cost is now $29.00.\n",
      "Invalid input. Please enter a numeric value for the price.\n",
      "\n",
      "Your Shopping List:\n",
      "cucumbers - $19.00\n",
      "avocado - $10.00\n",
      "Total cost: $29.00\n"
     ]
    }
   ],
   "source": [
    "def shopping_list():\n",
    "    # Step 1: Initialize your shopping list\n",
    "    items = []  # Empty list to store shopping items\n",
    "    total_cost = 0.0  # Variable to store the total cost\n",
    "\n",
    "    print(\"Welcome to the Shopping List!\")\n",
    "    print(\"Type 'q' to quit adding items.\")\n",
    "\n",
    "    # Step 2: User Input for Shopping List\n",
    "    while True:\n",
    "        item_name = input(\"Enter the name of the item: \")\n",
    "        if item_name.lower() == 'q':\n",
    "            break\n",
    "        \n",
    "        try:\n",
    "            item_price = float(input(\"Enter the price of the item: \"))\n",
    "            if item_price < 0:\n",
    "                print(\"Please enter a valid price (greater than or equal to 0).\")\n",
    "                continue\n",
    "            \n",
    "            # Add item to the shopping list\n",
    "            items.append((item_name, item_price))\n",
    "            total_cost += item_price  # Update total cost\n",
    "            \n",
    "            print(f\"Added {item_name} at ${item_price:.2f}. Total cost is now ${total_cost:.2f}.\")\n",
    "\n",
    "        except ValueError:\n",
    "            print(\"Invalid input. Please enter a numeric value for the price.\")\n",
    "\n",
    "    # Final summary of the shopping list\n",
    "    print(\"\\nYour Shopping List:\")\n",
    "    for item in items:\n",
    "        print(f\"{item[0]} - ${item[1]:.2f}\")\n",
    "    \n",
    "    print(f\"Total cost: ${total_cost:.2f}\")\n",
    "\n",
    "# Run the shopping list function\n",
    "shopping_list()"
   ]
  },
  {
   "cell_type": "markdown",
   "metadata": {},
   "source": [
    "## Homework in javascript for 3.1"
   ]
  },
  {
   "cell_type": "code",
   "execution_count": 5,
   "metadata": {
    "vscode": {
     "languageId": "javascript"
    }
   },
   "outputs": [
    {
     "data": {
      "application/javascript": "function ingredientConverter() {\n    // Step 1: Initialize Conversion Rates\n    const conversionRates = {\n        cupsToTablespoons: 16,\n        tablespoonsToTeaspoons: 3,\n        cupsToTeaspoons: 48\n    };\n\n    console.log(\"Welcome to the Ingredient Converter!\");\n    console.log(\"Type 'q' to quit entering ingredients.\");\n\n    const ingredients = []; // Array to store ingredient data\n\n    // Step 2: Input for Ingredients\n    while (true) {\n        const ingredientName = prompt(\"Enter the name of the ingredient: \");\n        if (ingredientName.toLowerCase() === 'q') {\n            break;\n        }\n\n        const quantity = parseFloat(prompt(\"Enter the quantity of the ingredient: \"));\n        const currentUnit = prompt(\"Enter the current unit (cups, tablespoons, teaspoons): \").toLowerCase();\n        const desiredUnit = prompt(\"Enter the desired unit (tablespoons, teaspoons): \").toLowerCase();\n\n        if (!['cups', 'tablespoons', 'teaspoons'].includes(currentUnit) || !['tablespoons', 'teaspoons'].includes(desiredUnit)) {\n            console.log(\"Invalid units entered. Please use cups, tablespoons, or teaspoons.\");\n            continue;\n        }\n\n        // Step 3: Conversion Logic\n        let convertedQuantity;\n\n        if (currentUnit === 'cups') {\n            if (desiredUnit === 'tablespoons') {\n                convertedQuantity = quantity * conversionRates.cupsToTablespoons;\n            } else if (desiredUnit === 'teaspoons') {\n                convertedQuantity = quantity * conversionRates.cupsToTeaspoons;\n            }\n        } else if (currentUnit === 'tablespoons') {\n            if (desiredUnit === 'teaspoons') {\n                convertedQuantity = quantity * conversionRates.tablespoonsToTeaspoons;\n            } else if (desiredUnit === 'cups') {\n                convertedQuantity = quantity / conversionRates.cupsToTablespoons;\n            }\n        } else if (currentUnit === 'teaspoons') {\n            if (desiredUnit === 'tablespoons') {\n                convertedQuantity = quantity / conversionRates.tablespoonsToTeaspoons;\n            } else if (desiredUnit === 'cups') {\n                convertedQuantity = quantity / conversionRates.cupsToTeaspoons;\n            }\n        }\n\n        // Store the ingredient data\n        ingredients.push({\n            name: ingredientName,\n            originalQuantity: quantity,\n            currentUnit: currentUnit,\n            convertedQuantity: convertedQuantity,\n            desiredUnit: desiredUnit\n        });\n\n        console.log(`Converted ${quantity} ${currentUnit} of ${ingredientName} to ${convertedQuantity.toFixed(2)} ${desiredUnit}.`);\n    }\n\n    // Step 4: Display the Converted Results\n    console.log(\"\\nConverted Ingredient List:\");\n    ingredients.forEach(ingredient => {\n        console.log(`${ingredient.name}: ${ingredient.originalQuantity} ${ingredient.currentUnit} = ${ingredient.convertedQuantity.toFixed(2)} ${ingredient.desiredUnit}`);\n    });\n}\n\n// Run the ingredient converter function\ningredientConverter();\n",
      "text/plain": [
       "<IPython.core.display.Javascript object>"
      ]
     },
     "metadata": {},
     "output_type": "display_data"
    }
   ],
   "source": [
    "%%javascript\n",
    "function ingredientConverter() {\n",
    "    // Step 1: Initialize Conversion Rates\n",
    "    const conversionRates = {\n",
    "        cupsToTablespoons: 16,\n",
    "        tablespoonsToTeaspoons: 3,\n",
    "        cupsToTeaspoons: 48\n",
    "    };\n",
    "\n",
    "    console.log(\"Welcome to the Ingredient Converter!\");\n",
    "    console.log(\"Type 'q' to quit entering ingredients.\");\n",
    "\n",
    "    const ingredients = []; // Array to store ingredient data\n",
    "\n",
    "    // Step 2: Input for Ingredients\n",
    "    while (true) {\n",
    "        const ingredientName = prompt(\"Enter the name of the ingredient: \");\n",
    "        if (ingredientName.toLowerCase() === 'q') {\n",
    "            break;\n",
    "        }\n",
    "\n",
    "        const quantity = parseFloat(prompt(\"Enter the quantity of the ingredient: \"));\n",
    "        const currentUnit = prompt(\"Enter the current unit (cups, tablespoons, teaspoons): \").toLowerCase();\n",
    "        const desiredUnit = prompt(\"Enter the desired unit (tablespoons, teaspoons): \").toLowerCase();\n",
    "\n",
    "        if (!['cups', 'tablespoons', 'teaspoons'].includes(currentUnit) || !['tablespoons', 'teaspoons'].includes(desiredUnit)) {\n",
    "            console.log(\"Invalid units entered. Please use cups, tablespoons, or teaspoons.\");\n",
    "            continue;\n",
    "        }\n",
    "\n",
    "        // Step 3: Conversion Logic\n",
    "        let convertedQuantity;\n",
    "\n",
    "        if (currentUnit === 'cups') {\n",
    "            if (desiredUnit === 'tablespoons') {\n",
    "                convertedQuantity = quantity * conversionRates.cupsToTablespoons;\n",
    "            } else if (desiredUnit === 'teaspoons') {\n",
    "                convertedQuantity = quantity * conversionRates.cupsToTeaspoons;\n",
    "            }\n",
    "        } else if (currentUnit === 'tablespoons') {\n",
    "            if (desiredUnit === 'teaspoons') {\n",
    "                convertedQuantity = quantity * conversionRates.tablespoonsToTeaspoons;\n",
    "            } else if (desiredUnit === 'cups') {\n",
    "                convertedQuantity = quantity / conversionRates.cupsToTablespoons;\n",
    "            }\n",
    "        } else if (currentUnit === 'teaspoons') {\n",
    "            if (desiredUnit === 'tablespoons') {\n",
    "                convertedQuantity = quantity / conversionRates.tablespoonsToTeaspoons;\n",
    "            } else if (desiredUnit === 'cups') {\n",
    "                convertedQuantity = quantity / conversionRates.cupsToTeaspoons;\n",
    "            }\n",
    "        }\n",
    "\n",
    "        // Store the ingredient data\n",
    "        ingredients.push({\n",
    "            name: ingredientName,\n",
    "            originalQuantity: quantity,\n",
    "            currentUnit: currentUnit,\n",
    "            convertedQuantity: convertedQuantity,\n",
    "            desiredUnit: desiredUnit\n",
    "        });\n",
    "\n",
    "        console.log(`Converted ${quantity} ${currentUnit} of ${ingredientName} to ${convertedQuantity.toFixed(2)} ${desiredUnit}.`);\n",
    "    }\n",
    "\n",
    "    // Step 4: Display the Converted Results\n",
    "    console.log(\"\\nConverted Ingredient List:\");\n",
    "    ingredients.forEach(ingredient => {\n",
    "        console.log(`${ingredient.name}: ${ingredient.originalQuantity} ${ingredient.currentUnit} = ${ingredient.convertedQuantity.toFixed(2)} ${ingredient.desiredUnit}`);\n",
    "    });\n",
    "}\n",
    "\n",
    "// Run the ingredient converter function\n",
    "ingredientConverter();"
   ]
  },
  {
   "cell_type": "markdown",
   "metadata": {},
   "source": [
    "## Popcorn Hack #1 "
   ]
  },
  {
   "cell_type": "code",
   "execution_count": 7,
   "metadata": {
    "vscode": {
     "languageId": "javascript"
    }
   },
   "outputs": [
    {
     "data": {
      "application/javascript": "// Define the variables\nlet movie = \"Lady Bird\";\nlet sport = \"Boxing\";\nlet petName = \"Kiki\";\n\n// Combine using concatenation\nlet messageConcatenation = \"Hello, my favorite movie is [\" + movie + \"]. My favorite sport is [\" + sport + \"] and my pet’s name is [\" + petName + \"].\";\nconsole.log(messageConcatenation);\n",
      "text/plain": [
       "<IPython.core.display.Javascript object>"
      ]
     },
     "metadata": {},
     "output_type": "display_data"
    }
   ],
   "source": [
    "%%javascript\n",
    "// Define the variables\n",
    "let movie = \"Lady Bird\";\n",
    "let sport = \"Boxing\";\n",
    "let petName = \"Kiki\";\n",
    "\n",
    "// Combine using concatenation\n",
    "let messageConcatenation = \"Hello, my favorite movie is [\" + movie + \"]. My favorite sport is [\" + sport + \"] and my pet’s name is [\" + petName + \"].\";\n",
    "console.log(messageConcatenation);"
   ]
  },
  {
   "cell_type": "code",
   "execution_count": 8,
   "metadata": {
    "vscode": {
     "languageId": "javascript"
    }
   },
   "outputs": [
    {
     "data": {
      "application/javascript": "// Define the variables\nlet movie = \"Lady Bird\";\nlet sport = \"Boxing\";\nlet petName = \"Kiki\";\n\n// Combine using interpolation\nlet messageInterpolation = `Hello, my favorite movie is [${movie}]. My favorite sport is [${sport}] and my pet’s name is [${petName}].`;\nconsole.log(messageInterpolation);\n",
      "text/plain": [
       "<IPython.core.display.Javascript object>"
      ]
     },
     "metadata": {},
     "output_type": "display_data"
    }
   ],
   "source": [
    "%%javascript\n",
    "// Define the variables\n",
    "let movie = \"Lady Bird\";\n",
    "let sport = \"Boxing\";\n",
    "let petName = \"Kiki\";\n",
    "\n",
    "// Combine using interpolation\n",
    "let messageInterpolation = `Hello, my favorite movie is [${movie}]. My favorite sport is [${sport}] and my pet’s name is [${petName}].`;\n",
    "console.log(messageInterpolation);"
   ]
  },
  {
   "cell_type": "markdown",
   "metadata": {},
   "source": [
    "## Popcorn Hack #2"
   ]
  },
  {
   "cell_type": "code",
   "execution_count": 9,
   "metadata": {
    "vscode": {
     "languageId": "javascript"
    }
   },
   "outputs": [
    {
     "data": {
      "application/javascript": "// Given string\nconst sentence = \"A journey of a thousand miles begins with a single step\";\n\n// Extract the word \"journey\"\nconst journey = sentence.slice(2, 9); // Starts at index 2 and ends before index 9\n\n// Extract the word \"miles\" using a negative starting index\nconst miles = sentence.slice(-18, -13); // Starts 18 characters from the end and ends before 13 from the end\n\n// Extract everything from the word \"begins\" to the end of the sentence\nconst beginsToEnd = sentence.slice(34); // Starts at index 34 to the end\n\n// Output the extractions\nconsole.log(\"Extracted word: \" + journey);\nconsole.log(\"Extracted word: \" + miles);\nconsole.log(\"Extracted phrase: \" + beginsToEnd);\n",
      "text/plain": [
       "<IPython.core.display.Javascript object>"
      ]
     },
     "metadata": {},
     "output_type": "display_data"
    }
   ],
   "source": [
    "%%javascript\n",
    "// Given string\n",
    "const sentence = \"A journey of a thousand miles begins with a single step\";\n",
    "\n",
    "// Extract the word \"journey\"\n",
    "const journey = sentence.slice(2, 9); // Starts at index 2 and ends before index 9\n",
    "\n",
    "// Extract the word \"miles\" using a negative starting index\n",
    "const miles = sentence.slice(-18, -13); // Starts 18 characters from the end and ends before 13 from the end\n",
    "\n",
    "// Extract everything from the word \"begins\" to the end of the sentence\n",
    "const beginsToEnd = sentence.slice(34); // Starts at index 34 to the end\n",
    "\n",
    "// Output the extractions\n",
    "console.log(\"Extracted word: \" + journey);\n",
    "console.log(\"Extracted word: \" + miles);\n",
    "console.log(\"Extracted phrase: \" + beginsToEnd);"
   ]
  },
  {
   "cell_type": "markdown",
   "metadata": {},
   "source": [
    "## Popcorn Hack #3"
   ]
  },
  {
   "cell_type": "code",
   "execution_count": 10,
   "metadata": {},
   "outputs": [
    {
     "name": "stdout",
     "output_type": "stream",
     "text": [
      " jrny f  thsnd mls bgns wth  sngl stp.\n"
     ]
    }
   ],
   "source": [
    "def remove_vowels(sentence):\n",
    "    vowels = \"aeiouAEIOU\"\n",
    "    modified_sentence = \"\"\n",
    "    \n",
    "    for char in sentence:\n",
    "        if char not in vowels:\n",
    "            modified_sentence += char\n",
    "            \n",
    "    return modified_sentence\n",
    "\n",
    "# Test the function\n",
    "test_sentence = \"A journey of a thousand miles begins with a single step.\"\n",
    "result = remove_vowels(test_sentence)\n",
    "print(result)  # Output: \" jrn f thsnd mls bgns wth sngl st.\""
   ]
  },
  {
   "cell_type": "code",
   "execution_count": 11,
   "metadata": {},
   "outputs": [
    {
     "name": "stdout",
     "output_type": "stream",
     "text": [
      " jrny f  thsnd mls bgns wth  sngl stp.\n"
     ]
    }
   ],
   "source": [
    "def remove_vowels(sentence):\n",
    "    vowels = \"aeiouAEIOU\"\n",
    "    modified_sentence = ''.join([char for char in sentence if char not in vowels])\n",
    "    return modified_sentence\n",
    "\n",
    "# Test the function\n",
    "test_sentence = \"A journey of a thousand miles begins with a single step.\"\n",
    "result = remove_vowels(test_sentence)\n",
    "print(result)  # Output: \" jrn f thsnd mls bgns wth sngl st.\""
   ]
  },
  {
   "cell_type": "markdown",
   "metadata": {},
   "source": [
    "## Reverse Order Hack"
   ]
  },
  {
   "cell_type": "code",
   "execution_count": 12,
   "metadata": {},
   "outputs": [
    {
     "name": "stdout",
     "output_type": "stream",
     "text": [
      "world Hello\n",
      "step single a with begins miles thousand a of journey A\n",
      "fun is Python\n"
     ]
    }
   ],
   "source": [
    "def reverse_words(sentence):\n",
    "    # Split the sentence into words\n",
    "    words = sentence.split()\n",
    "    # Reverse the list of words\n",
    "    reversed_words = words[::-1]\n",
    "    # Join the reversed list back into a string\n",
    "    reversed_sentence = ' '.join(reversed_words)\n",
    "    return reversed_sentence\n",
    "\n",
    "# Test the function with different sentences\n",
    "test_sentence_1 = \"Hello world\"\n",
    "test_sentence_2 = \"A journey of a thousand miles begins with a single step\"\n",
    "test_sentence_3 = \"Python is fun\"\n",
    "\n",
    "print(reverse_words(test_sentence_1))  # Output: \"world Hello\"\n",
    "print(reverse_words(test_sentence_2))  # Output: \"step single a with begins miles thousand a of journey A\"\n",
    "print(reverse_words(test_sentence_3))  # Output: \"fun is Python\""
   ]
  },
  {
   "cell_type": "markdown",
   "metadata": {},
   "source": [
    "## Homework for 3.4 "
   ]
  },
  {
   "cell_type": "code",
   "execution_count": 1,
   "metadata": {
    "vscode": {
     "languageId": "javascript"
    }
   },
   "outputs": [
    {
     "data": {
      "application/javascript": "// Define the first and last names\nlet firstName = \"Arshia\";\nlet lastName = \"Deb Roy\";\n\n// Create the greeting message using concatenation\nlet greetingConcatenation = \"Hello, \" + firstName + \" \" + lastName + \"!\";\nconsole.log(greetingConcatenation);  // Output: Hello, John Doe!\n",
      "text/plain": [
       "<IPython.core.display.Javascript object>"
      ]
     },
     "metadata": {},
     "output_type": "display_data"
    }
   ],
   "source": [
    "%%javascript\n",
    "// Define the first and last names\n",
    "let firstName = \"Arshia\";\n",
    "let lastName = \"Deb Roy\";\n",
    "\n",
    "// Create the greeting message using concatenation\n",
    "let greetingConcatenation = \"Hello, \" + firstName + \" \" + lastName + \"!\";\n",
    "console.log(greetingConcatenation);  // Output: Hello, John Doe!"
   ]
  },
  {
   "cell_type": "code",
   "execution_count": 2,
   "metadata": {
    "vscode": {
     "languageId": "javascript"
    }
   },
   "outputs": [
    {
     "data": {
      "application/javascript": "// Define the first and last names\nlet firstName = \"John\";\nlet lastName = \"Doe\";\n\n// Create the greeting message using interpolation\nlet greetingInterpolation = `Hello, ${firstName} ${lastName}!`;\nconsole.log(greetingInterpolation);  // Output: Hello, John Doe!\n",
      "text/plain": [
       "<IPython.core.display.Javascript object>"
      ]
     },
     "metadata": {},
     "output_type": "display_data"
    }
   ],
   "source": [
    "%%javascript\n",
    "// Define the first and last names\n",
    "let firstName = \"John\";\n",
    "let lastName = \"Doe\";\n",
    "\n",
    "// Create the greeting message using interpolation\n",
    "let greetingInterpolation = `Hello, ${firstName} ${lastName}!`;\n",
    "console.log(greetingInterpolation);  // Output: Hello, John Doe!"
   ]
  },
  {
   "cell_type": "code",
   "execution_count": 3,
   "metadata": {},
   "outputs": [
    {
     "name": "stdout",
     "output_type": "stream",
     "text": [
      "True\n"
     ]
    }
   ],
   "source": [
    "def is_palindrome(s):\n",
    "    # Remove non-alphanumeric characters and convert to lowercase\n",
    "    cleaned_s = ''.join(char.lower() for char in s if char.isalnum())\n",
    "    # Check if the cleaned string is equal to its reverse\n",
    "    return cleaned_s == cleaned_s[::-1]\n",
    "\n",
    "# Example usage:\n",
    "input_string = \"A man, a plan, a canal: Panama\"\n",
    "print(is_palindrome(input_string))  # Output: True"
   ]
  }
 ],
 "metadata": {
  "kernelspec": {
   "display_name": "Python 3",
   "language": "python",
   "name": "python3"
  },
  "language_info": {
   "codemirror_mode": {
    "name": "ipython",
    "version": 3
   },
   "file_extension": ".py",
   "mimetype": "text/x-python",
   "name": "python",
   "nbconvert_exporter": "python",
   "pygments_lexer": "ipython3",
   "version": "3.10.12"
  }
 },
 "nbformat": 4,
 "nbformat_minor": 2
}
