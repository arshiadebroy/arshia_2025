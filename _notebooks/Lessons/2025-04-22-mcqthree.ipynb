{
 "cells": [
  {
   "cell_type": "markdown",
   "metadata": {},
   "source": [
    "---\n",
    "layout: post\n",
    "title: MCQ Corrections \n",
    "description: 3rd mcq review\n",
    "permalink: 3.2/\n",
    "courses: { csp: {week:1} }\n",
    "comments: true \n",
    "sticky_rank: 1\n",
    "---"
   ]
  },
  {
   "cell_type": "markdown",
   "metadata": {},
   "source": [
    "<img width=\"300\" alt=\"Image\" src=https://github.com/user-attachments/assets/2d67c0da-81a7-494a-8cf8-a62a2e171a5f"
   ]
  },
  {
   "cell_type": "markdown",
   "metadata": {},
   "source": [
    "## Improvement Overtime \n",
    "- <img width=\"300\" alt=\"Image\" src=https://github.com/user-attachments/assets/04705736-6c0a-43c6-b603-dbbeb35328bc\n",
    "- Despite still having many things to improve on, I have gotten my score up from a 42% to a 85%. "
   ]
  },
  {
   "cell_type": "markdown",
   "metadata": {},
   "source": [
    "<head>\n",
    "    <meta charset=\"UTF-8\">\n",
    "    <meta name=\"viewport\" content=\"width=device-width, initial-scale=1.0\">\n",
    "    <title>Pink Two-Column Table</title>\n",
    "    <style>\n",
    "        body {\n",
    "            font-family: Arial, sans-serif;\n",
    "            margin: 0;\n",
    "            padding: 0;\n",
    "        }\n",
    "        table {\n",
    "            width: 80%;\n",
    "            border-collapse: collapse;\n",
    "            margin: 20px auto;\n",
    "            background-color: #ffe6f0;\n",
    "            color: #333;\n",
    "        }\n",
    "        th, td {\n",
    "            border: 1px solid #ff99cc;\n",
    "            padding: 10px;\n",
    "            text-align: left;\n",
    "        }\n",
    "        th {\n",
    "            background-color: #ff99cc;\n",
    "            color: white;\n",
    "            font-weight: bold;\n",
    "        }\n",
    "        td {\n",
    "            background-color: #ffd6e7;\n",
    "        }\n",
    "    </style>\n",
    "    </head>\n",
    "<body>\n",
    "    <table>\n",
    "        <thead>\n",
    "            <tr>\n",
    "                <th>What I know</th>\n",
    "                <th>What I need to review</th>\n",
    "            </tr>\n",
    "        </thead>\n",
    "        <tbody>\n",
    "            <tr>\n",
    "                <td> - 1.C use of citizen s science - 2,b Conditionals -5.b Extracting Information from Data, - 3.c Binary Numbers, 2,a- Iteration </td>\n",
    "                <td> - 3.9 Developing Algorithms, 3.5 Boolean Expressions</td>\n",
    "            </tr>\n",
    "        </tbody>\n",
    "    </table>\n",
    "</body>"
   ]
  },
  {
   "cell_type": "markdown",
   "metadata": {},
   "source": [
    "## MCQ Corrections \n",
    "- Q14: A list of numbers is considered increasing if each value after the first is greater than or equal to the preceding value. The following procedure is intended to return true if numberList is increasing and return false otherwise. Assume that numberList contains at least two elements.Which of the following changes is needed for the program to work as intended?\n",
    "\n",
    "Correct Answer and Reflection: C, Correct. As is, the procedure traverses numberList from left to right and returns true whenever it encounters a value that is less than the preceding value. If it never encounters such a value, false is returned. This has the effect of returning true whenever the list is not increasing and returning false whenever the list is increasing, which is the opposite of what is intended. By interchanging lines 8 and 12, the procedure will return true or false appropriately.\n",
    "\n",
    "- Q22: The question below uses a robot in a grid of squares. The robot is represented as a triangle, which is initially in the center square and facing toward the top of the grid. The following code segment is used to move the robot in the grid. Which of the following code segments will move the robot from the center square along the same path as the code segment above?\n",
    "\n",
    "Correct Answer and Reflection: A,  The given code segment initializes count to 1 and increments count at the end of the outer loop. This causes the robot to move 1 square forward, then rotate left, then move 2 squares forward, then rotate left, then move 3 squares forward, then rotate left, then move 4 squares forward, then rotate left. The robot ends in the lower-right corner of the grid, facing toward the top of the grid. This code segment initializes count to 0 and increments count at the beginning of the outer loop.\n",
    "\n",
    "Q25: In the following procedure, the parameter n is an integer greater than 2. Which of the following best describes the value returned by the procedure?\n",
    "\n",
    "Correct Answer: The procedure initially sets result to 1 and j to 2. In the REPEAT UNTIL loop, result is first assigned the sum of result and j, or 1 + 2. The value of j is then increased to 3. In each subsequent iteration of the loop, result is increased by each successive value of j (3, 4, 5, etc.) until j exceeds n. Therefore, the procedure returns the sum of the integers from 1 to n.\n",
    "\n",
    "Q42: Consider the following code segment. What value is displayed as a result of executing the code segment?\n",
    "\n",
    "Correct Answer: A, The expression (item MOD 2) evaluates to 1 for odd values and evaluates to 0 for even values. As a result, the code segment adds 1 to result for each odd value in integerList. There are three odd values in the list, so 3 is displayed.\n",
    "\n",
    "Q47: A student wants to count the number of restaurants in the spreadsheet whose price range is $30 or less and whose average customer rating is at least 4.0. For a given row in the spreadsheet, suppose prcRange contains the price range as a string and avgRating contains the average customer rating as a decimal number. Which of the following expressions will evaluate to true if the restaurant should be counted and evaluates to false otherwise?\n",
    "\n",
    "Correct Answer: B, This expression evaluates to true only for restaurants with the correct price range (when prcRange equals \"lo\" or \"med\") and the correct customer rating (when avgRating ≥ 4.0).\n",
    "\n",
    "Q55: A code segment is intended to transform the list utensils so that the last element of the list is moved to the beginning of the list. For example, if utensils initially contains  [\"fork\", \"spoon\", \"tongs\", \"spatula\", \"whisk\"], it should contain [\"whisk\", \"fork\", \"spoon\", \"tongs\", \"spatula\"] after executing the code segment. Which of the following code segments transforms the list as intended?\n",
    "\n",
    "Correct Answer: C, This code segment assigns the value of the last element of the list to the variable temp, then removes the last element of the list, then inserts temp as the first element of the list.\n",
    "\n",
    "Q63: The following table shows the value of expression based on the values of input1 and input2. Which of the following expressions are equivalent to the value of expression as shown in the table? \n",
    "\n",
    "Correct Answer: A and D, When input1 and input2 are both true, the expression (input1 AND input2) is true, so NOT (input1 AND input2) will evaluate to false. In all other cases, (input1 AND input2) will evaluate to false, so NOT (input1 AND input2) will evaluate to true.\n",
    "\n",
    "Q64: In the following procedure, the parameter age represents a person’s age. The procedure is intended to return the name of the age group associated with age. People who are under 18 are considered minors, people who are 65 and older are considered senior citizens, and all other people are considered adults. The procedure does not work as intended. Removing which two lines of code will cause the procedure to work as intended?\n",
    "\n",
    "Correct Answer: C and B, This line should be removed. This statement causes result to be assigned the value \"adult\", even if it should have been assigned the value \"senior citizen\".\n",
    "\n",
    "Q66: In a certain video game, players are awarded bonus points at the end of a level based on the value of the integer variable timer. The bonus points are awarded as follows.\n",
    "\n",
    "If timer is less than 30, then 500 bonus points are awarded.\n",
    "If timer is between 30 and 60 inclusive, then 1000 bonus points are awarded.\n",
    "If timer is greater than 60, then 1500 bonus points are awarded.\n",
    "Which of the following code segments assigns the correct number of bonus points to bonus for all possible values of timer ?\n",
    "\n",
    "Correct Answer: A and D, This code segment assigns 500 bonus points by default. If timer is less than 30, no additional bonus points are added. If timer is between 30 and 60 inclusive, bonus is incremented by 500 in the first IF block. If timer is greater than 60, bonus is incremented by 500 twice (once in each IF block). The correct number of bonus points is assigned to bonus for all possible values of timer.\n"
   ]
  },
  {
   "cell_type": "markdown",
   "metadata": {},
   "source": [
    "## College Board Analysis and Reflection \n",
    "- <img width=\"300\" alt=\"Image\" src=https://github.com/user-attachments/assets/d2870056-628f-40ee-9ce1-4f1f209a91f9\n",
    "\n",
    "- According to this analysis, Determining the result of code segments and identifying errors are skills that I need to improve on. This makes sense as I will often redo code may times having a hard time pinpointing details within it. Through my study guide, I hope to have more guided practice that helps me8identify mistakes in code and practice targeted questions. "
   ]
  }
 ],
 "metadata": {
  "language_info": {
   "name": "python"
  }
 },
 "nbformat": 4,
 "nbformat_minor": 2
}
