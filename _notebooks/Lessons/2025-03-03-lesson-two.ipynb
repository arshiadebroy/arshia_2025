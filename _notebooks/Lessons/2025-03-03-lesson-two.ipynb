{
 "cells": [
  {
   "cell_type": "markdown",
   "metadata": {},
   "source": [
    "---\n",
    "layout: post\n",
    "title: College Board Lessons Pt. 2 \n",
    "description: Homework for lessons\n",
    "courses: { csp: {week:1} }\n",
    "comments: true \n",
    "sticky_rank: 1\n",
    "---"
   ]
  },
  {
   "cell_type": "markdown",
   "metadata": {},
   "source": [
    "## Ethical and Legal Concerns Notes \n",
    "- Digital media is regulated through copyright laws, patents, trademarks, trade secrets, legal measures, and more \n",
    "- A software license is a legal agreement that defines how others use your code and without a lisence, All Rights are reserved. \n",
    "- Open source and open source software is code that is publicly open to anyone and anyone can collaborate to the code. Though it is usually used with good intention, the open access can negatively affect the quality of the code. \n",
    "- MIT license and Apache 2.0 license which can be used by companies to protect there work and has patent protection for users of the license. Other licenses can be used for artists so that they can choose how others use there work\n",
    "- Big Tech Companies use certain licenses while non-profits use other licenses which best fit there purpose \n",
    "- Google vs. Oracle happened because Oracle sued Google for unfair api use and violating their licensing. Google claimed that they rightfully used the apis and code. \n",
    "- Things can be legal but very unethical because if there are no laws on AI models, then people can abuse it in unethical ways. This can hugely affect the future of CSP. "
   ]
  },
  {
   "cell_type": "markdown",
   "metadata": {},
   "source": [
    "## Popcorn Hacks: \n",
    "#1: \n",
    "- A legal concern is people stealing work because it isn't copyrighted as well as violating licenses.\n",
    "\n",
    "#2\n",
    "- An apache 2.0 license would be useful but so would an MIT license because it is easy to acquire and the license is easy to impliment \n",
    "\n"
   ]
  },
  {
   "cell_type": "markdown",
   "metadata": {},
   "source": [
    "## Safe Computing \n",
    "- Social security number, full name, and cookies are used to identify who people are. When you enter a website, a certain cookie will be activated and stay on your computer to identify what kind of viewer you are. \n",
    "- First-party cookie, third-party cookie, and persistent cookies are all types of cookies in websites \n",
    "- Safe computing means that websites make users create passwords that fit the characteristics the websites want because it helps protect users from bots or phishing \n",
    "- Phishing is when you are scammed through website spoofing and fake emails that imitate real companies such as Google, Amazon, and more. \n",
    "- Padlocks ensure that websites are secure and less likely to be scammed. \n",
    "- Smishing is SMS phishing and is very common in the Unites States. This is when fake sites or programs text people to try to get them to click links and join fake sites "
   ]
  },
  {
   "cell_type": "markdown",
   "metadata": {},
   "source": [
    "## Popcorn Hacks \n",
    "#1: \n",
    "\n",
    "#2: \n",
    "The two middle squares and top middle square are the blocks you need to click in order to prove you're not a robot "
   ]
  },
  {
   "cell_type": "markdown",
   "metadata": {},
   "source": [
    "## Homework Hacks "
   ]
  },
  {
   "cell_type": "code",
   "execution_count": 1,
   "metadata": {},
   "outputs": [
    {
     "name": "stdout",
     "output_type": "stream",
     "text": [
      "Applied shift: 1\n",
      "Output: dmsdq\n"
     ]
    }
   ],
   "source": [
    "import random\n",
    "\n",
    "def caesar_cipher(text, shift, mode):\n",
    "    transformed_text = \"\"\n",
    "    for char in text:\n",
    "        if char.isalpha():  # Encrypts only alphabetic characters\n",
    "            adjusted_shift = shift if mode == \"encrypt\" else -shift\n",
    "            base = ord('A') if char.isupper() else ord('a')\n",
    "            new_char = chr((ord(char) - base + adjusted_shift) % 26 + base)\n",
    "            transformed_text += new_char\n",
    "        else:\n",
    "            transformed_text += char  # Retains spaces and punctuation\n",
    "    return transformed_text\n",
    "\n",
    "# User input handling\n",
    "mode = input(\"Choose mode: encrypt or decrypt: \").strip().lower()\n",
    "message = input(\"Enter text: \")\n",
    "shift_value = input(\"Enter shift amount (or type 'random'): \").strip().lower()\n",
    "\n",
    "# Assign shift value based on user input\n",
    "shift = random.randint(1, 25) if shift_value == \"random\" else int(shift_value)\n",
    "\n",
    "print(f\"Applied shift: {shift}\")  # Display chosen shift value\n",
    "output_text = caesar_cipher(message, shift, mode)\n",
    "print(f\"Output: {output_text}\")\n"
   ]
  }
 ],
 "metadata": {
  "kernelspec": {
   "display_name": "venv",
   "language": "python",
   "name": "python3"
  },
  "language_info": {
   "codemirror_mode": {
    "name": "ipython",
    "version": 3
   },
   "file_extension": ".py",
   "mimetype": "text/x-python",
   "name": "python",
   "nbconvert_exporter": "python",
   "pygments_lexer": "ipython3",
   "version": "3.12.3"
  }
 },
 "nbformat": 4,
 "nbformat_minor": 2
}
