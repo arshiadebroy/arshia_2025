{
 "cells": [
  {
   "cell_type": "markdown",
   "metadata": {},
   "source": [
    "---\n",
    "layout: post\n",
    "title: College Board Lessons Pt.4\n",
    "description: All homework for Lessons\n",
    "courses: { csp: {week:1} }\n",
    "comments: true \n",
    "sticky_rank: 1\n",
    "---"
   ]
  },
  {
   "cell_type": "markdown",
   "metadata": {},
   "source": [
    "## Color Codes and Base24\n",
    " Popcorn Hacks: \n",
    " 1. PNG is the best format\n",
    " 2. JPG JGEP\n",
    " 3. GIF \n",
    "\n",
    " 2. U1Q= → ST\n",
    "- U = 20 → 010100\n",
    "- 1 = 53 → 110101\n",
    "- Q = 16 → 010000\n",
    "Together = 01010011 01010100 = ASCII for \"ST\"\n"
   ]
  },
  {
   "cell_type": "markdown",
   "metadata": {},
   "source": [
    "## Homework Hacks \n",
    "<html lang=\"en\">\n",
    "<head>\n",
    "  <meta charset=\"UTF-8\">\n",
    "  <title>My Mood Board</title>\n",
    "  <style>\n",
    "    body {\n",
    "      font-family: Arial, sans-serif;\n",
    "      text-align: center;\n",
    "      padding: 20px;\n",
    "    }\n",
    "    .color-box {\n",
    "      width: 150px;\n",
    "      height: 150px;\n",
    "      display: inline-block;\n",
    "      margin: 10px;\n",
    "      border-radius: 10px;\n",
    "      line-height: 150px;\n",
    "      color: #333;\n",
    "      font-weight: bold;\n",
    "      box-shadow: 0 0 10px rgba(0,0,0,0.1);\n",
    "    }\n",
    "  </style>\n",
    "</head>\n",
    "<body>\n",
    "  <h1>:art: My Mood Board</h1>\n",
    "  <div class=\"color-box\" style=\"background-color: #FF9FB2;\">#87CEEB</div>\n",
    "  <div class=\"color-box\" style=\"background-color: #FBDCE2;\">#FF7F50</div>\n",
    "  <div class=\"color-box\" style=\"background-color: #E6E6FA;\">#0ACDFF</div>\n",
    "  <div class=\"color-box\" style=\"background-color: #98FF98;\">#60AB9A</div>\n",
    "  <div class=\"color-box\" style=\"background-color: #FFFACD;\">#DEDEE0</div>\n",
    "</body>\n",
    "</html>\n",
    "\n",
    "<html lang=\"en\">\n",
    "<head>\n",
    "  <meta charset=\"UTF-8\">\n",
    "  <title>My Base64 Profile Pic</title>\n",
    "</head>\n",
    "<body>\n",
    "  <h1>:school_satchel: My Embedded Profile Picture</h1>\n",
    "  <img src=\"data:image/png;base64,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\" alt=\"Profile Picture\" width=\"200\">\n",
    "</body>\n",
    "</html>"
   ]
  },
  {
   "cell_type": "code",
   "execution_count": 1,
   "metadata": {},
   "outputs": [
    {
     "name": "stdout",
     "output_type": "stream",
     "text": [
      "Change for 63¢: [25, 25, 10, 1, 1, 1]\n",
      "Total coins used: 6\n"
     ]
    }
   ],
   "source": [
    "def greedy_coin_change(amount, coins=[25, 10, 5, 1]):\n",
    "    change = []\n",
    "    for coin in coins:\n",
    "        while amount >= coin:\n",
    "            amount -= coin\n",
    "            change.append(coin)\n",
    "    return change\n",
    "\n",
    "# Example usage:\n",
    "amount = 63\n",
    "result = greedy_coin_change(amount)\n",
    "print(f\"Change for {amount}¢: {result}\")\n",
    "print(f\"Total coins used: {len(result)}\")"
   ]
  },
  {
   "cell_type": "markdown",
   "metadata": {},
   "source": [
    "## Popcorn Hacks: \n",
    "1: The most efficient strategies are checking the last digit and then using the modulus operator to check if the remainder when divided by 2 is 0. This is because these methods both implement the O(1) operator, and options 2 and 3 only require one step. When checking the last number, it’s only one step, and there are only 5 options to check from. As for the modulus, this operation is also one step since it immediately gives back the result of whether the number is 0 or not.\n",
    "\n",
    "2: The Binary search is 0.000038 seconds. It is 12687x faster than the linear search. If you increase the data set, the time it takes to run is longer, but the Binary search is still a lot faster than the linear searching algorithm. Linear search: 0.700474 seconds.\n",
    "\n",
    "The Linear search is 0.483965 seconds.\n"
   ]
  },
  {
   "cell_type": "markdown",
   "metadata": {},
   "source": [
    "## Challenge\n",
    "\n",
    "For a performance-critical application, I would choose the speed-optimized method using slicing (s[::-1]) because speed is the top priority in such scenarios. Although this method involves a memory trade-off, it is efficient and does not result in any data loss. Additionally, it ensures that outputs such as graphs are generated quickly and scaled in a linear or otherwise reasonable manner, contributing to the overall responsiveness and effectiveness of the application."
   ]
  },
  {
   "cell_type": "markdown",
   "metadata": {},
   "source": [
    "## Homework Hacks \n",
    "\n",
    "The merge sort is consistantly faster than the bubble sort because it splits up the values rather than tackling each one induvidually. By dividing and conquering, merge sorting reduces the number of comparisons need to run the algorithm. Bubble sort has a larger time complexity since it has to manually switch each value that is next to the starting item."
   ]
  },
  {
   "cell_type": "code",
   "execution_count": 2,
   "metadata": {},
   "outputs": [
    {
     "name": "stdout",
     "output_type": "stream",
     "text": [
      "Bubble Sort took: 0.000329 seconds\n",
      "Merge Sort took: 0.000225 seconds\n",
      "Merge Sort is faster.\n"
     ]
    }
   ],
   "source": [
    "import random\n",
    "import time\n",
    "\n",
    "def bubble_sort(arr):\n",
    "    n = len(arr)\n",
    "    for i in range(n):\n",
    "        for j in range(0, n - i - 1):\n",
    "            if arr[j] > arr[j + 1]:\n",
    "                arr[j], arr[j + 1] = arr[j + 1], arr[j]\n",
    "\n",
    "def merge_sort(arr):\n",
    "    if len(arr) > 1:\n",
    "        mid = len(arr) // 2\n",
    "        left = arr[:mid]\n",
    "        right = arr[mid:]\n",
    "\n",
    "        merge_sort(left)\n",
    "        merge_sort(right)\n",
    "\n",
    "        i = j = k = 0\n",
    "        while i < len(left) and j < len(right):\n",
    "            if left[i] < right[j]:\n",
    "                arr[k] = left[i]\n",
    "                i += 1\n",
    "            else:\n",
    "                arr[k] = right[j]\n",
    "                j += 1\n",
    "            k += 1\n",
    "\n",
    "        while i < len(left):\n",
    "            arr[k] = left[i]\n",
    "            i += 1\n",
    "            k += 1\n",
    "\n",
    "        while j < len(right):\n",
    "            arr[k] = right[j]\n",
    "            j += 1\n",
    "            k += 1\n",
    "\n",
    "# Generate random list\n",
    "random_list = [random.randint(1, 1000) for _ in range(100)]\n",
    "list_for_bubble = random_list.copy()\n",
    "list_for_merge = random_list.copy()\n",
    "\n",
    "# Time Bubble Sort\n",
    "start_bubble = time.time()\n",
    "bubble_sort(list_for_bubble)\n",
    "end_bubble = time.time()\n",
    "\n",
    "# Time Merge Sort\n",
    "start_merge = time.time()\n",
    "merge_sort(list_for_merge)\n",
    "end_merge = time.time()\n",
    "\n",
    "# Output times\n",
    "bubble_time = end_bubble - start_bubble\n",
    "merge_time = end_merge - start_merge\n",
    "\n",
    "print(f\"Bubble Sort took: {bubble_time:.6f} seconds\")\n",
    "print(f\"Merge Sort took: {merge_time:.6f} seconds\")\n",
    "\n",
    "if bubble_time < merge_time:\n",
    "    print(\"Bubble Sort is faster.\")\n",
    "else:\n",
    "    print(\"Merge Sort is faster.\")"
   ]
  },
  {
   "cell_type": "markdown",
   "metadata": {},
   "source": [
    "Binary searching is a lot faster than Linear searching because it uses a lot less comparisons. It cuts down the list in half each time, causing the algortihm to be more efficient and work faster compared to the linear search that makes comparisons at each item given in a list. This is why the Linear search is given by O(n).\n",
    "On an unsorted list, the Linear searching algorithm would still work since it does not rely on if the list is sorted or not. "
   ]
  },
  {
   "cell_type": "code",
   "execution_count": 3,
   "metadata": {},
   "outputs": [
    {
     "name": "stdout",
     "output_type": "stream",
     "text": [
      "Target: 37\n",
      "Linear Search comparisons: 37\n",
      "Binary Search comparisons: 16\n"
     ]
    }
   ],
   "source": [
    "import random\n",
    "\n",
    "def linear_search(arr, target):\n",
    "    count = 0\n",
    "    for i in range(len(arr)):\n",
    "        count += 1\n",
    "        if arr[i] == target:\n",
    "            return count\n",
    "    return -1\n",
    "\n",
    "def binary_search(arr, target):\n",
    "    left, right = 0, len(arr) - 1\n",
    "    count = 0\n",
    "    while left <= right:\n",
    "        count += 1\n",
    "        mid = (left + right) // 2\n",
    "        if arr[mid] == target:\n",
    "            return count\n",
    "        elif arr[mid] < target:\n",
    "            left = mid + 1\n",
    "        else:\n",
    "            right = mid - 1\n",
    "    return -1\n",
    "\n",
    "# Generate sorted list\n",
    "arr = list(range(1, 100001))\n",
    "\n",
    "# Pick a random target from the list\n",
    "target = random.choice(arr)\n",
    "\n",
    "# Perform searches\n",
    "linear_comparisons = linear_search(arr, target)\n",
    "binary_comparisons = binary_search(arr, target)\n",
    "\n",
    "# Output results\n",
    "print(f\"Target: {target}\")\n",
    "print(f\"Linear Search comparisons: {linear_comparisons}\")\n",
    "print(f\"Binary Search comparisons: {binary_comparisons}\")"
   ]
  },
  {
   "cell_type": "markdown",
   "metadata": {},
   "source": [
    "## Homework Hack\n",
    "\n",
    "“Is this number divisible by 2?”\n",
    "Decidable – You can check if a number is divisible by 2 using a simple, finite algorithm (e.g., check if the remainder is 0 when divided by 2).\n",
    "\n",
    "“Will this program stop or run forever?”\n",
    "Undecidable – This is the Halting Problem, which has been mathematically proven to be unsolvable for all possible programs.\n",
    "\n",
    "“Does this sentence contain the word ‘banana’?”\n",
    "Decidable – You can write an algorithm to scan the sentence and check for the word “banana”; it will always give an answer in finite time.\n",
    "\n",
    "“Will this AI ever become sentient?”\n",
    "Undecidable – There is no clear algorithm or known definition that can decide this for any AI system in a general and provable way.\n",
    "\n",
    "1. Algorithm: Input a number → If even, say \"Yes,\" else say \"No.\"\n",
    "Decidable – This is a clear, step-by-step process that always gives an answer in finite time.\n",
    "\n",
    "2. Algorithm: Input a program → Predict if it will ever stop running → Output \"Yes\"/\"No\"\n",
    "Undecidable – Again, this is the Halting Problem; there is no general algorithm that can always correctly predict whether any arbitrary program halts."
   ]
  }
 ],
 "metadata": {
  "kernelspec": {
   "display_name": "venv",
   "language": "python",
   "name": "python3"
  },
  "language_info": {
   "codemirror_mode": {
    "name": "ipython",
    "version": 3
   },
   "file_extension": ".py",
   "mimetype": "text/x-python",
   "name": "python",
   "nbconvert_exporter": "python",
   "pygments_lexer": "ipython3",
   "version": "3.12.3"
  }
 },
 "nbformat": 4,
 "nbformat_minor": 2
}
