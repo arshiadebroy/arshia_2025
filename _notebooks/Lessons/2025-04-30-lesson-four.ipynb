{
 "cells": [
  {
   "cell_type": "markdown",
   "metadata": {},
   "source": [
    "---\n",
    "layout: post\n",
    "title: College Board Lessons Pt.4\n",
    "description: All homework for Lessons\n",
    "courses: { csp: {week:1} }\n",
    "comments: true \n",
    "sticky_rank: 1\n",
    "---"
   ]
  },
  {
   "cell_type": "markdown",
   "metadata": {},
   "source": [
    "## Color Codes and Base24\n",
    " Popcorn Hacks: \n",
    " 1. PNG is the best format\n",
    " 2. JPG JGEP\n",
    " 3. GIF \n",
    "\n",
    " 2. U1Q= → ST\n",
    "- U = 20 → 010100\n",
    "- 1 = 53 → 110101\n",
    "- Q = 16 → 010000\n",
    "Together = 01010011 01010100 = ASCII for \"ST\"\n"
   ]
  },
  {
   "cell_type": "markdown",
   "metadata": {},
   "source": [
    "## Homework Hacks \n",
    "<html lang=\"en\">\n",
    "<head>\n",
    "  <meta charset=\"UTF-8\">\n",
    "  <title>My Mood Board</title>\n",
    "  <style>\n",
    "    body {\n",
    "      font-family: Arial, sans-serif;\n",
    "      text-align: center;\n",
    "      padding: 20px;\n",
    "    }\n",
    "    .color-box {\n",
    "      width: 150px;\n",
    "      height: 150px;\n",
    "      display: inline-block;\n",
    "      margin: 10px;\n",
    "      border-radius: 10px;\n",
    "      line-height: 150px;\n",
    "      color: #333;\n",
    "      font-weight: bold;\n",
    "      box-shadow: 0 0 10px rgba(0,0,0,0.1);\n",
    "    }\n",
    "  </style>\n",
    "</head>\n",
    "<body>\n",
    "  <h1>:art: My Mood Board</h1>\n",
    "  <div class=\"color-box\" style=\"background-color: #FF9FB2;\">#87CEEB</div>\n",
    "  <div class=\"color-box\" style=\"background-color: #FBDCE2;\">#FF7F50</div>\n",
    "  <div class=\"color-box\" style=\"background-color: #E6E6FA;\">#0ACDFF</div>\n",
    "  <div class=\"color-box\" style=\"background-color: #98FF98;\">#60AB9A</div>\n",
    "  <div class=\"color-box\" style=\"background-color: #FFFACD;\">#DEDEE0</div>\n",
    "</body>\n",
    "</html>\n",
    "10:12\n",
    "<html lang=\"en\">\n",
    "<head>\n",
    "  <meta charset=\"UTF-8\">\n",
    "  <title>My Base64 Profile Pic</title>\n",
    "</head>\n",
    "<body>\n",
    "  <h1>:school_satchel: My Embedded Profile Picture</h1>\n",
    "  <img src=\"data:image/png;base64,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\" alt=\"Profile Picture\" width=\"200\">\n",
    "</body>\n",
    "</html>"
   ]
  },
  {
   "cell_type": "code",
   "execution_count": 1,
   "metadata": {},
   "outputs": [
    {
     "name": "stdout",
     "output_type": "stream",
     "text": [
      "Change for 63¢: [25, 25, 10, 1, 1, 1]\n",
      "Total coins used: 6\n"
     ]
    }
   ],
   "source": [
    "def greedy_coin_change(amount, coins=[25, 10, 5, 1]):\n",
    "    change = []\n",
    "    for coin in coins:\n",
    "        while amount >= coin:\n",
    "            amount -= coin\n",
    "            change.append(coin)\n",
    "    return change\n",
    "\n",
    "# Example usage:\n",
    "amount = 63\n",
    "result = greedy_coin_change(amount)\n",
    "print(f\"Change for {amount}¢: {result}\")\n",
    "print(f\"Total coins used: {len(result)}\")"
   ]
  },
  {
   "cell_type": "markdown",
   "metadata": {},
   "source": [
    "## Popcorn Hacks: \n",
    "1: The most efficient strategies are checking the last digit and then using the modulus operator to check if the remainder when divided by 2 is 0. This is because these methods both implement the O(1) operator, and options 2 and 3 only require one step. When checking the last number, it’s only one step, and there are only 5 options to check from. As for the modulus, this operation is also one step since it immediately gives back the result of whether the number is 0 or not.\n",
    "\n",
    "2: The Binary search is 0.000038 seconds. It is 12687x faster than the linear search. If you increase the data set, the time it takes to run is longer, but the Binary search is still a lot faster than the linear searching algorithm. Linear search: 0.700474 seconds.\n",
    "\n",
    "The Linear search is 0.483965 seconds.\n"
   ]
  },
  {
   "cell_type": "markdown",
   "metadata": {},
   "source": [
    "## Challenge\n",
    "\n",
    "For a performance-critical application, I would choose the speed-optimized method using slicing (s[::-1]) because speed is the top priority in such scenarios. Although this method involves a memory trade-off, it is efficient and does not result in any data loss. Additionally, it ensures that outputs such as graphs are generated quickly and scaled in a linear or otherwise reasonable manner, contributing to the overall responsiveness and effectiveness of the application."
   ]
  },
  {
   "cell_type": "markdown",
   "metadata": {},
   "source": [
    "## Homework Hacks \n",
    "\n",
    "The merge sort is consistantly faster than the bubble sort because it splits up the values rather than tackling each one induvidually. By dividing and conquering, merge sorting reduces the number of comparisons need to run the algorithm. Bubble sort has a larger time complexity since it has to manually switch each value that is next to the starting item."
   ]
  },
  {
   "cell_type": "code",
   "execution_count": 2,
   "metadata": {},
   "outputs": [
    {
     "name": "stdout",
     "output_type": "stream",
     "text": [
      "Bubble Sort took: 0.000329 seconds\n",
      "Merge Sort took: 0.000225 seconds\n",
      "Merge Sort is faster.\n"
     ]
    }
   ],
   "source": [
    "import random\n",
    "import time\n",
    "\n",
    "def bubble_sort(arr):\n",
    "    n = len(arr)\n",
    "    for i in range(n):\n",
    "        for j in range(0, n - i - 1):\n",
    "            if arr[j] > arr[j + 1]:\n",
    "                arr[j], arr[j + 1] = arr[j + 1], arr[j]\n",
    "\n",
    "def merge_sort(arr):\n",
    "    if len(arr) > 1:\n",
    "        mid = len(arr) // 2\n",
    "        left = arr[:mid]\n",
    "        right = arr[mid:]\n",
    "\n",
    "        merge_sort(left)\n",
    "        merge_sort(right)\n",
    "\n",
    "        i = j = k = 0\n",
    "        while i < len(left) and j < len(right):\n",
    "            if left[i] < right[j]:\n",
    "                arr[k] = left[i]\n",
    "                i += 1\n",
    "            else:\n",
    "                arr[k] = right[j]\n",
    "                j += 1\n",
    "            k += 1\n",
    "\n",
    "        while i < len(left):\n",
    "            arr[k] = left[i]\n",
    "            i += 1\n",
    "            k += 1\n",
    "\n",
    "        while j < len(right):\n",
    "            arr[k] = right[j]\n",
    "            j += 1\n",
    "            k += 1\n",
    "\n",
    "# Generate random list\n",
    "random_list = [random.randint(1, 1000) for _ in range(100)]\n",
    "list_for_bubble = random_list.copy()\n",
    "list_for_merge = random_list.copy()\n",
    "\n",
    "# Time Bubble Sort\n",
    "start_bubble = time.time()\n",
    "bubble_sort(list_for_bubble)\n",
    "end_bubble = time.time()\n",
    "\n",
    "# Time Merge Sort\n",
    "start_merge = time.time()\n",
    "merge_sort(list_for_merge)\n",
    "end_merge = time.time()\n",
    "\n",
    "# Output times\n",
    "bubble_time = end_bubble - start_bubble\n",
    "merge_time = end_merge - start_merge\n",
    "\n",
    "print(f\"Bubble Sort took: {bubble_time:.6f} seconds\")\n",
    "print(f\"Merge Sort took: {merge_time:.6f} seconds\")\n",
    "\n",
    "if bubble_time < merge_time:\n",
    "    print(\"Bubble Sort is faster.\")\n",
    "else:\n",
    "    print(\"Merge Sort is faster.\")"
   ]
  },
  {
   "cell_type": "markdown",
   "metadata": {},
   "source": [
    "Binary searching is a lot faster than Linear searching because it uses a lot less comparisons. It cuts down the list in half each time, causing the algortihm to be more efficient and work faster compared to the linear search that makes comparisons at each item given in a list. This is why the Linear search is given by O(n).\n",
    "On an unsorted list, the Linear searching algorithm would still work since it does not rely on if the list is sorted or not. "
   ]
  },
  {
   "cell_type": "code",
   "execution_count": 3,
   "metadata": {},
   "outputs": [
    {
     "name": "stdout",
     "output_type": "stream",
     "text": [
      "Target: 37\n",
      "Linear Search comparisons: 37\n",
      "Binary Search comparisons: 16\n"
     ]
    }
   ],
   "source": [
    "import random\n",
    "\n",
    "def linear_search(arr, target):\n",
    "    count = 0\n",
    "    for i in range(len(arr)):\n",
    "        count += 1\n",
    "        if arr[i] == target:\n",
    "            return count\n",
    "    return -1\n",
    "\n",
    "def binary_search(arr, target):\n",
    "    left, right = 0, len(arr) - 1\n",
    "    count = 0\n",
    "    while left <= right:\n",
    "        count += 1\n",
    "        mid = (left + right) // 2\n",
    "        if arr[mid] == target:\n",
    "            return count\n",
    "        elif arr[mid] < target:\n",
    "            left = mid + 1\n",
    "        else:\n",
    "            right = mid - 1\n",
    "    return -1\n",
    "\n",
    "# Generate sorted list\n",
    "arr = list(range(1, 100001))\n",
    "\n",
    "# Pick a random target from the list\n",
    "target = random.choice(arr)\n",
    "\n",
    "# Perform searches\n",
    "linear_comparisons = linear_search(arr, target)\n",
    "binary_comparisons = binary_search(arr, target)\n",
    "\n",
    "# Output results\n",
    "print(f\"Target: {target}\")\n",
    "print(f\"Linear Search comparisons: {linear_comparisons}\")\n",
    "print(f\"Binary Search comparisons: {binary_comparisons}\")"
   ]
  },
  {
   "cell_type": "markdown",
   "metadata": {},
   "source": [
    "## Homework Hack\n",
    "\n",
    "“Is this number divisible by 2?”\n",
    "Decidable – You can check if a number is divisible by 2 using a simple, finite algorithm (e.g., check if the remainder is 0 when divided by 2).\n",
    "\n",
    "“Will this program stop or run forever?”\n",
    "Undecidable – This is the Halting Problem, which has been mathematically proven to be unsolvable for all possible programs.\n",
    "\n",
    "“Does this sentence contain the word ‘banana’?”\n",
    "Decidable – You can write an algorithm to scan the sentence and check for the word “banana”; it will always give an answer in finite time.\n",
    "\n",
    "“Will this AI ever become sentient?”\n",
    "Undecidable – There is no clear algorithm or known definition that can decide this for any AI system in a general and provable way.\n",
    "\n",
    "1. Algorithm: Input a number → If even, say \"Yes,\" else say \"No.\"\n",
    "Decidable – This is a clear, step-by-step process that always gives an answer in finite time.\n",
    "\n",
    "2. Algorithm: Input a program → Predict if it will ever stop running → Output \"Yes\"/\"No\"\n",
    "Undecidable – Again, this is the Halting Problem; there is no general algorithm that can always correctly predict whether any arbitrary program halts."
   ]
  }
 ],
 "metadata": {
  "kernelspec": {
   "display_name": "venv",
   "language": "python",
   "name": "python3"
  },
  "language_info": {
   "codemirror_mode": {
    "name": "ipython",
    "version": 3
   },
   "file_extension": ".py",
   "mimetype": "text/x-python",
   "name": "python",
   "nbconvert_exporter": "python",
   "pygments_lexer": "ipython3",
   "version": "3.12.3"
  }
 },
 "nbformat": 4,
 "nbformat_minor": 2
}
