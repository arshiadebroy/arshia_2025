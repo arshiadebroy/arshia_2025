{
 "cells": [
  {
   "cell_type": "markdown",
   "id": "d9cb368b",
   "metadata": {},
   "source": [
    "---\n",
    "layout: post\n",
    "title: Final Blog and Reflection\n",
    "description: Overview of my learning and growth in CSP this year \n",
    "courses: { csp: {week:1} }\n",
    "comments: true \n",
    "sticky_rank: 1\n",
    "---"
   ]
  },
  {
   "cell_type": "markdown",
   "id": "1458241c",
   "metadata": {},
   "source": [
    "## Lesson Notes Links \n",
    "<style>\n",
    "\n",
    "/* Change color of links on hover */\n",
    ".dropdown-content-a:hover {\n",
    "| background-color: #ddd;\n",
    "}\n",
    "\n",
    "/* Show the dropdown content when the user clicks on the button */\n",
    ".dropdown:hover .dropdown-content {\n",
    "| display: block;\n",
    "}\n",
    "\n",
    "/* Dropdown Button Hover Effect */\n",
    ".dropbtn:hover {\n",
    "| background-color: #ff1493;\n",
    "}\n",
    "\n",
    ".button {\n",
    "  background-color: #ff6eb2; /* Green */\n",
    "  border: none;\n",
    "  color: purple;\n",
    "  padding: 20px;\n",
    "  text-align: center;\n",
    "  text-decoration: none;\n",
    "  display: inline-block;\n",
    "  font-size: 16px;\n",
    "  margin: 4px 2px;\n",
    "  cursor: pointer;\n",
    "}\n",
    "\n",
    ".button1 {border-radius: 12px;}\n",
    "</style>\n",
    "\n",
    "<a href=\"https://arshiadebroy.github.io/arshia_2025/2025/03/21/lesson-notes_IPYNB_2_.html\">\n",
    "<button class=\"button button1\">Week 1</button>\n",
    "</a>\n",
    "\n",
    "\n",
    "<a href=\"https://arshiadebroy.github.io/arshia_2025/2025/03/03/lesson-two_IPYNB_2_.html\">\n",
    "<button class=\"button button1\">Week 2</button>\n",
    "</a>\n",
    "\n",
    "<a href=\"https://arshiadebroy.github.io/arshia_2025/2025/04/10/lesson-three_IPYNB_2_.html\">\n",
    "<button class=\"button button1\">Week 3</button>\n",
    "</a>\n",
    "\n",
    "<a href=\"https://arshiadebroy.github.io/arshia_2025/2024/10/15/entire-hw_IPYNB_2_.html\">\n",
    "<button class=\"button button1\">Old Notes</button>\n",
    "</a>\n"
   ]
  },
  {
   "cell_type": "markdown",
   "id": "4496b2f2",
   "metadata": {},
   "source": [
    "## Other Significant Blog\n",
    "\n",
    "<a href=\"https://arshiadebroy.github.io/arshia_2025/2025/01/30/big-idea-4_IPYNB_2_.html\">\n",
    "<button class=\"button button1\">Trimester 2 Code Blog</button>\n",
    "</a>\n",
    "\n",
    "<a href=\"https://arshiadebroy.github.io/arshia_2025/2025/01/27/project-blog_IPYNB_2_.html\">\n",
    "<button class=\"button button1\">Project Blog</button>\n",
    "</a>\n",
    "\n"
   ]
  }
 ],
 "metadata": {
  "language_info": {
   "name": "python"
  }
 },
 "nbformat": 4,
 "nbformat_minor": 5
}
