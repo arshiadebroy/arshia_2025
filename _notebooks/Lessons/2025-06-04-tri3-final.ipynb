{
 "cells": [
  {
   "cell_type": "markdown",
   "id": "d9cb368b",
   "metadata": {},
   "source": [
    "---\n",
    "layout: post\n",
    "title: Final Blog and Reflection\n",
    "description: Overview of my learning and growth in CSP this year \n",
    "courses: { csp: {week:1} }\n",
    "comments: true \n",
    "sticky_rank: 1\n",
    "---"
   ]
  },
  {
   "cell_type": "markdown",
   "id": "1458241c",
   "metadata": {},
   "source": [
    "## Lesson Notes Links \n",
    "<style>\n",
    "\n",
    "/* Change color of links on hover */\n",
    ".dropdown-content-a:hover {\n",
    "| background-color: #ddd;\n",
    "}\n",
    "\n",
    "/* Show the dropdown content when the user clicks on the button */\n",
    ".dropdown:hover .dropdown-content {\n",
    "| display: block;\n",
    "}\n",
    "\n",
    "/* Dropdown Button Hover Effect */\n",
    ".dropbtn:hover {\n",
    "| background-color: #ff1493;\n",
    "}\n",
    "\n",
    ".button {\n",
    "  background-color: #ff6eb2; /* Green */\n",
    "  border: none;\n",
    "  color: purple;\n",
    "  padding: 20px;\n",
    "  text-align: center;\n",
    "  text-decoration: none;\n",
    "  display: inline-block;\n",
    "  font-size: 16px;\n",
    "  margin: 4px 2px;\n",
    "  cursor: pointer;\n",
    "}\n",
    "\n",
    ".button1 {border-radius: 12px;}\n",
    "</style>\n",
    "\n",
    "<a href=\"https://arshiadebroy.github.io/arshia_2025/2025/03/21/lesson-notes_IPYNB_2_.html\">\n",
    "<button class=\"button button1\">Week 1</button>\n",
    "</a>\n",
    "\n",
    "\n",
    "<a href=\"https://arshiadebroy.github.io/arshia_2025/2025/03/03/lesson-two_IPYNB_2_.html\">\n",
    "<button class=\"button button1\">Week 2</button>\n",
    "</a>\n",
    "\n",
    "<a href=\"https://arshiadebroy.github.io/arshia_2025/2025/04/10/lesson-three_IPYNB_2_.html\">\n",
    "<button class=\"button button1\">Week 3</button>\n",
    "</a>\n",
    "\n",
    "<a href=\"https://arshiadebroy.github.io/arshia_2025/2024/10/15/entire-hw_IPYNB_2_.html\">\n",
    "<button class=\"button button1\">Old Notes</button>\n",
    "</a>\n"
   ]
  },
  {
   "cell_type": "markdown",
   "id": "18a1bb03",
   "metadata": {},
   "source": [
    "## Homework Grading and Grades \n",
    "- Overall I have gotten an average of 90% on all of the homework for every lesson this year including those from the start of the year. Through this I was able to increase my mcq scores during practice quizzes getting up to a 60/70 on the final mcq. This aided me in preparing for the csp exam and having a better understanding of different topics relating to coding. "
   ]
  },
  {
   "cell_type": "markdown",
   "id": "4496b2f2",
   "metadata": {},
   "source": [
    "## Other Significant Blog\n",
    "\n",
    "<a href=\"https://arshiadebroy.github.io/arshia_2025/2025/01/30/big-idea-4_IPYNB_2_.html\">\n",
    "<button class=\"button button1\">Trimester 2 Code Blog</button>\n",
    "</a>\n",
    "\n",
    "<a href=\"https://arshiadebroy.github.io/arshia_2025/2025/01/27/project-blog_IPYNB_2_.html\">\n",
    "<button class=\"button button1\">Project Blog</button>\n",
    "</a>\n",
    "\n",
    "<a href=\"https://arshiadebroy.github.io/arshia_2025/2025/06/03/datascience_IPYNB_2_.html\">\n",
    "<button class=\"button button1\">Teaching Data Science Blog</button>\n",
    "</a>"
   ]
  },
  {
   "cell_type": "markdown",
   "id": "914791b3",
   "metadata": {},
   "source": [
    "## Coding Growth \n",
    "- Restaurant Reviews Project \n",
    "Designed and implemented a dynamic web application using SQLite to store user-submitted reviews and ratings. Built a clean and responsive frontend UI with JavaScript and HTML/CSS, enabling users to easily post, browse, and sort restaurant reviews. Leveraged Postman to test RESTful endpoints and integrated external APIs to enrich content.\n",
    "\n",
    "- Recipe Finder with API Integration \n",
    "Developed a full-stack restaurant and recipe finder using the Spoonacular API. Constructed a Flask-based backend that processed user input, made external API calls, and returned tailored recipe results. Collaborated with the frontend team to present results using an interactive, user-friendly layout. Used Postman for route testing and data validation. \n",
    "\n",
    "- Surviving Sickness: Predictive Health Model \n",
    "Created a logistic regression model in Jupyter Notebook using Python libraries like pandas and scikit-learn to predict survival likelihood based on influenza symptoms. Integrated the model into a Flask API and built an intuitive frontend interface for real-time user input and prediction display. Demonstrated strong data science foundations and end-to-end model deployment skills.  \n",
    "\n",
    "<img width=\"745\" alt=\"Image\" src=\"https://github.com/user-attachments/assets/f0e0110c-dc79-4a01-84c4-ba29a1945a80\" /> \n",
    "\n",
    "<br> <img width=\"400\" alt=\"Image\" src=\"https://github.com/user-attachments/assets/ee3ece43-2f4e-442b-ba36-54d632daa08b\" />\n",
    "<br> <img width=\"400\" alt=\"Image\" src=\"https://github.com/user-attachments/assets/84d4d8d3-fef3-4922-8785-24ee6a26681b\n",
    "\" />\n",
    "<img width=\"278\" alt=\"Image\" src=\"https://github.com/user-attachments/assets/2f5db6bd-f729-4a61-a410-377d1486eb3e\" />\n"
   ]
  },
  {
   "cell_type": "markdown",
   "id": "6df2bd2a",
   "metadata": {},
   "source": [
    "## Night At the Museum \n",
    "- Through Night At the Museum, I was able to interact with other people's projects and take time to showcase what my group had created. I was also able to spend time planning how to present our project along with exploring others ideas. \n",
    "- We went through our blogs, showing people our documentation through blogs\n",
    "- We then would allow people to view individual features and give them a breakdown of how each model works. This way people were able to give us feedback and take an in depth look into our website. \n",
    "\n",
    "<div>\n",
    "    <img width=\"400\" alt=\"Project Image 1\" src=\"https://i.postimg.cc/4dTS3c95/Screenshot-2025-06-09-055811.png\" />\n",
    "    <br>\n",
    "    <img width=\"400\" alt=\"Project Image 2\" src=\"https://i.postimg.cc/fyzqch5S/Screenshot-2025-06-09-060019.png\" />\n",
    "    <br>\n",
    "    <img width=\"400\" alt=\"Project Image 3\" src=\"https://i.postimg.cc/v8hNQcHr/Screenshot-2025-06-09-060402.png\" />\n",
    "</div>\n"
   ]
  },
  {
   "cell_type": "markdown",
   "id": "bbe4c49d",
   "metadata": {},
   "source": [
    "## Stats \n",
    "\n",
    "<div>\n",
    "    <img width=\"800\" alt=\"GitHub Dashboard Screenshot 1\" src=\"https://i.postimg.cc/7LFP78pH/Screenshot-2025-06-09-103609.png\" />\n",
    "    <br><br>\n",
    "    <img width=\"800\" alt=\"GitHub Dashboard Screenshot 2\" src=\"https://i.postimg.cc/j2XRGWC2/Screenshot-2025-06-09-103830.png\" />\n",
    "</div>\n",
    "\n",
    "\n",
    "<div>\n",
    "    <img width=\"400\" alt=\"Stats Image 1\" src=\"https://i.postimg.cc/VvZgX0d2/Screenshot-2025-06-09-060940.png\" />\n",
    "    <br>\n",
    "    <img width=\"400\" alt=\"Stats Image 3\" src=\"https://i.postimg.cc/gk54JR9Z/Screenshot-2025-06-09-061052.png\" />\n",
    "    <br>\n",
    "    <img width=\"400\" alt=\"Stats Image 4\" src=\"https://i.postimg.cc/kgbst49h/Screenshot-2025-06-09-061230.png\" />\n",
    "    <img width=\"400\" alt=\"GitHub Dashboard Screenshot 3\" src=\"https://i.postimg.cc/tgF2dnNM/Screenshot-2025-06-09-174803.png\" />\n",
    "</div>"
   ]
  },
  {
   "cell_type": "markdown",
   "id": "3acef893",
   "metadata": {},
   "source": [
    "## Personal Growth and Soft Skills \n",
    "- Through this course, I've learned how to work better with a team and grown as a person\n",
    "- Entering this class, I didn't know many people and I also didn't know how to code, which made the start rough. It was hard to run commands, work on Kasm, and work without knowing a lot of people. Through trimester 1 I ended up changing computers to try coding without Kasm and with it I also changed my attitude. I began to talk to more groups surrounding me and I met some of my now teammates for the first time. This strengthened my resolve and aided me in building new skills I hadn't before\n",
    "- Through lessons and live reviews I became familiar with a new style of grading and I prepared myself better through collaborating with my team and learning that working together results in the best outcomes. When in trimester 2 I was with a few teammates that didn't know how to code, I learned to help them learn the basics while holding up my team. This progressed my coding skills as well as made me better at running a team. \n",
    "- Throughout third trimester, I took more of a backseat but I figured out how to be in a team without overplaying my role. If I did my part and encouraged everyone to do theirs, we could come up with a better result. \n",
    "- Overall, I feel as though this course hasn't just progressed my knowledge of Computer Science, but also made me a better teammate and person. The things I have learned through this class I plan to use for the rest of my career and the people I have met have enriched my experiance here at Del Norte. "
   ]
  }
 ],
 "metadata": {
  "language_info": {
   "name": "python"
  }
 },
 "nbformat": 4,
 "nbformat_minor": 5
}
