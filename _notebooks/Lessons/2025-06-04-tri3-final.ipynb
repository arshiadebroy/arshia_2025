{
 "cells": [
  {
   "cell_type": "markdown",
   "id": "d9cb368b",
   "metadata": {},
   "source": [
    "---\n",
    "layout: post\n",
    "title: Final Blog and Reflection\n",
    "description: Overview of my learning and growth in CSP this year \n",
    "courses: { csp: {week:1} }\n",
    "comments: true \n",
    "sticky_rank: 1\n",
    "---"
   ]
  },
  {
   "cell_type": "markdown",
   "id": "1458241c",
   "metadata": {},
   "source": [
    "## Lesson Notes Links \n",
    "<style>\n",
    "\n",
    "/* Change color of links on hover */\n",
    ".dropdown-content-a:hover {\n",
    "| background-color: #ddd;\n",
    "}\n",
    "\n",
    "/* Show the dropdown content when the user clicks on the button */\n",
    ".dropdown:hover .dropdown-content {\n",
    "| display: block;\n",
    "}\n",
    "\n",
    "/* Dropdown Button Hover Effect */\n",
    ".dropbtn:hover {\n",
    "| background-color: #ff1493;\n",
    "}\n",
    "\n",
    ".button {\n",
    "  background-color: #ff6eb2; /* Green */\n",
    "  border: none;\n",
    "  color: purple;\n",
    "  padding: 20px;\n",
    "  text-align: center;\n",
    "  text-decoration: none;\n",
    "  display: inline-block;\n",
    "  font-size: 16px;\n",
    "  margin: 4px 2px;\n",
    "  cursor: pointer;\n",
    "}\n",
    "\n",
    ".button1 {border-radius: 12px;}\n",
    "</style>\n",
    "\n",
    "<a href=\"https://arshiadebroy.github.io/arshia_2025/2025/03/21/lesson-notes_IPYNB_2_.html\">\n",
    "<button class=\"button button1\">Week 1</button>\n",
    "</a>\n",
    "\n",
    "\n",
    "<a href=\"https://arshiadebroy.github.io/arshia_2025/2025/03/03/lesson-two_IPYNB_2_.html\">\n",
    "<button class=\"button button1\">Week 2</button>\n",
    "</a>\n",
    "\n",
    "<a href=\"https://arshiadebroy.github.io/arshia_2025/2025/04/10/lesson-three_IPYNB_2_.html\">\n",
    "<button class=\"button button1\">Week 3</button>\n",
    "</a>\n",
    "\n",
    "<a href=\"https://arshiadebroy.github.io/arshia_2025/2024/10/15/entire-hw_IPYNB_2_.html\">\n",
    "<button class=\"button button1\">Old Notes</button>\n",
    "</a>\n"
   ]
  },
  {
   "cell_type": "markdown",
   "id": "18a1bb03",
   "metadata": {},
   "source": [
    "## Homework Grading and Grades \n",
    "- Overall I have gotten an average of 90% on all of the homework for every lesson this year including those from the start of the year. Through this I was able to increase my mcq scores during practice quizzes getting up to a 60/70 on the final mcq. This aided me in preparing for the csp exam and having a better understanding of different topics relating to coding. "
   ]
  },
  {
   "cell_type": "markdown",
   "id": "4496b2f2",
   "metadata": {},
   "source": [
    "## Other Significant Blog\n",
    "\n",
    "<a href=\"https://arshiadebroy.github.io/arshia_2025/2025/01/30/big-idea-4_IPYNB_2_.html\">\n",
    "<button class=\"button button1\">Trimester 2 Code Blog</button>\n",
    "</a>\n",
    "\n",
    "<a href=\"https://arshiadebroy.github.io/arshia_2025/2025/01/27/project-blog_IPYNB_2_.html\">\n",
    "<button class=\"button button1\">Project Blog</button>\n",
    "</a>\n",
    "\n",
    "<a href=\"https://arshiadebroy.github.io/arshia_2025/2025/06/03/datascience_IPYNB_2_.html\">\n",
    "<button class=\"button button1\">Teaching Data Science Blog</button>\n",
    "</a>"
   ]
  },
  {
   "cell_type": "markdown",
   "id": "914791b3",
   "metadata": {},
   "source": [
    "## Coding Growth \n",
    "- Restaurant Reviews \n",
    "Designed and implemented a dynamic web application using SQLite to store user-submitted reviews and ratings. Built a clean and responsive frontend UI with JavaScript and HTML/CSS, enabling users to easily post, browse, and sort restaurant reviews. Leveraged Postman to test RESTful endpoints and integrated external APIs to enrich content.\n",
    "\n",
    "- Recipe Finder with API Integration \n",
    "Developed a full-stack restaurant and recipe finder using the Spoonacular API. Constructed a Flask-based backend that processed user input, made external API calls, and returned tailored recipe results. Collaborated with the frontend team to present results using an interactive, user-friendly layout. Used Postman for route testing and data validation. \n",
    "\n",
    "- Surviving Sickness: Predictive Health Model \n",
    "Created a logistic regression model in Jupyter Notebook using Python libraries like pandas and scikit-learn to predict survival likelihood based on influenza symptoms. Integrated the model into a Flask API and built an intuitive frontend interface for real-time user input and prediction display. Demonstrated strong data science foundations and end-to-end model deployment skills.  \n",
    "\n"
   ]
  }
 ],
 "metadata": {
  "language_info": {
   "name": "python"
  }
 },
 "nbformat": 4,
 "nbformat_minor": 5
}
