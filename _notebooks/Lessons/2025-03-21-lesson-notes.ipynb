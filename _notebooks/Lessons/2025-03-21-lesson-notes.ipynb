{
 "cells": [
  {
   "cell_type": "markdown",
   "metadata": {},
   "source": [
    "---\n",
    "layout: post\n",
    "title: College Board Lessons Pt. 1  \n",
    "description: All homework for Lessons\n",
    "permalink: 3.2/\n",
    "courses: { csp: {week:1} }\n",
    "comments: true \n",
    "sticky_rank: 1\n",
    "---"
   ]
  },
  {
   "cell_type": "markdown",
   "metadata": {},
   "source": [
    "## Digital Divide Notes\n",
    "- Gap between people that have reliable technology access to the people that are not as privileged. \n",
    "- Places like San Diego and Tijuana border have an environment that effects how much technology people have access too. Without digital access people are more isolated from the people on the internet and others around them\n",
    "- Rural Africa and India have a digital divide affecting the people there. \n",
    "- There are ethical and Societal concerns because everyone deserves equal access to technology, the internet, and other resources which affect schooling and eventually the jobs that people can get. \n",
    "- Communities should support people by giving free access to internet in rural areas and providing subsidized devices that can be offered to people. "
   ]
  },
  {
   "cell_type": "markdown",
   "metadata": {},
   "source": [
    "## Popcorn Hacks \n",
    "- Education: This is because people with a lower socioeconomic class have access to education of a different quality then those with a higher class. This creates a digital divide between different classes because people do npt have an equal amount of resources. \n",
    "\n",
    "- iPhones: iPhones aren't as inclusive as they could be, because people who are blind cannot use the iPhone as well as users who are seeing people. "
   ]
  },
  {
   "cell_type": "markdown",
   "metadata": {},
   "source": [
    "## Homework Hacks \n",
    "- I have noticed a digital divide in my life through how healthcare is provided to many of my relatives in India compared to the type of healthcare me and my family have access to here in California. Many people in India aren't able to get access to proper healthcare due to the massive population and lack of funding in certain areas leading to millions of people being sick and undiagnosed. I even remember seeing many people in the same community as my relatives being very sick and unable to drive to the nearest hospital, which was extremely far away. Perhaps if there was an organization and funding sent to these rural areas, more people would be able to have hospitals nearby and doctors that can aid them when they are sick. There is also a digital divide in this case because the science and technology used to diagnose people here in California deeply differs from that which is in India. "
   ]
  },
  {
   "cell_type": "markdown",
   "metadata": {},
   "source": [
    "## Computing Bias Notes \n",
    "- Computing bias occurs when computer programs or systems unfairly produce results against a person or certain groups. This can occur through biased data, flawed experiment, and other technological issues. \n",
    "- If data has bias, the model will reflect that. AI can be used for positive things but also be biased, which is very harmful to certain groups and the world at large. \n",
    "- Computers are programmed by humans, which means that a creators bias will effect how computers and technology is made. \n",
    "- Majority Preference Bias: recommending popular content instead of something more diverse\n",
    "- Computing Bias: People can introduce this to their own code or it can happened naturally when the algorithm is carried out. \n",
    "- Explicit and Implicit Data are two types of data that affects how technology takes information that can lead to bias. \n",
    "- Algorithm bias is from a repeated but faulty computer system that can discriminate against certain groups. \n",
    "- Data Bias fails to have an equal representation of all groups of people, making data based on a small minority rather then the majority. \n",
    "- Cognitive Bias is when someone unknowingly adds in their own bias into their experiment. \n",
    "- Intentional Bias: Deliberate introduction or unfairness into algorithms by the creators. Sometimes it can be helpful though, because it allows people to get topics that they want. \n",
    "- Unintentional Bias: Occurs when algorithms are trained or designed unintentionally to be unfair. This is because of an error in the data set or design. \n",
    "- Through processing, mistakes can be prevented and caught as the program is being ran-through "
   ]
  },
  {
   "cell_type": "markdown",
   "metadata": {},
   "source": [
    "## Popcorn Hacks \n",
    "\n",
    "- Question 1: Answer B \n",
    "- Question 2: Answer B "
   ]
  },
  {
   "cell_type": "markdown",
   "metadata": {},
   "source": [
    "## Homework Hacks for Computing Bias \n",
    "- "
   ]
  },
  {
   "cell_type": "markdown",
   "metadata": {},
   "source": [
    "## Notes on Crowdsourcing\n",
    "- Crowdsourcing is a method of collecting help through shared resources and using lots of people working together to solve problems people care about. \n",
    "- Crowdsourcing consists of Crowdfunding, Crowd Creation, Crowd Voting, and Crowd Wisdom\n",
    "- These are different methods of Crowdsourcing that collect feedback from people and ensure that data is valid\n",
    "- Crowdfunding: Raises money by collecting contributions from large group of people\n",
    "- Crowd Creation: Gathering creative input from a crowd for content creation or design\n",
    "- Crowd Voting: Using voting from lots of people to get information and input\n",
    "- Crowd Wisdom: Using the thoughts or ideas from people in the crowd \n",
    "- Open source development is a way of building software and platforms like Linux make ways for people to collaborate through code\n",
    "- Public Datasets: They are invaluable resources for research, innovation, and development through various industries. Different types of datasets are in google open images, kaggle datasets, and the world bank open data set. \n",
    "- Distributed Computing is whe"
   ]
  },
  {
   "cell_type": "markdown",
   "metadata": {},
   "source": [
    "## Popcorn Hacks \n",
    "1:\n",
    "- Crowdfunding: Raises money by collecting contributions from large group of people\n",
    "- Crowd Creation: Gathering creative input from a crowd for content creation or design\n",
    "- Crowd Voting: Using voting from lots of people to get information and input\n",
    "- Crowd Wisdom: Using the thoughts or ideas from people in the crowd and collective intelligence for decision making \n",
    "\n",
    "2:\n",
    "- Data crowdsourcing is a method of collecting data from lots of people in order to get information from a large group of people to add to public datasets. Datasets such as google open images can allow people to collaborate and add to a large set of information online \n",
    "\n",
    "3: \n",
    "- Different types of platforms have methods of using crowdsourcing such as Github, Duolingo. Amazon, and Instagram which use users information to help everyone "
   ]
  }
 ],
 "metadata": {
  "language_info": {
   "name": "python"
  }
 },
 "nbformat": 4,
 "nbformat_minor": 2
}
