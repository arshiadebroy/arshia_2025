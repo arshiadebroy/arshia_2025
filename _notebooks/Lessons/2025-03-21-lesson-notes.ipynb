{
 "cells": [
  {
   "cell_type": "markdown",
   "metadata": {},
   "source": [
    "---\n",
    "layout: post\n",
    "title: Digital Divide  \n",
    "description: All homework for Lessons\n",
    "permalink: 3.2/\n",
    "courses: { csp: {week:1} }\n",
    "comments: true \n",
    "sticky_rank: 1\n",
    "---"
   ]
  },
  {
   "cell_type": "markdown",
   "metadata": {},
   "source": [
    "## Digital Divide Notes\n",
    "- Gap between people that have reliable technology access to the people that are not as privileged. \n",
    "- Places like San Diego and Tijuana border have an environment that effects how much technology people have access too. Without digital access people are more isolated from the people on the internet and others around them\n",
    "- Rural Africa and India have a digital divide affecting the people there. \n",
    "- There are ethical and Societal concerns because everyone deserves equal access to technology, the internet, and other resources which affect schooling and eventually the jobs that people can get. \n",
    "- Communities should support people by giving free access to internet in rural areas and providing subsidized devices that can be offered to people. "
   ]
  },
  {
   "cell_type": "markdown",
   "metadata": {},
   "source": [
    "## Popcorn Hacks \n",
    "- Education: This is because people with a lower socioeconomic class have access to education of a different quality then those with a higher class. This creates a digital divide between different classes because people do npt have an equal amount of resources. \n",
    "\n",
    "- iPhones: iPhones aren't as inclusive as they could be, because people who are blind cannot use the iPhone as well as users who are seeing people. "
   ]
  },
  {
   "cell_type": "markdown",
   "metadata": {},
   "source": [
    "## Homework Hacks \n",
    "- I have noticed a digital divide in my life through how healthcare is provided to many of my relatives in India compared to the type of healthcare me and my family have access to here in California. Many people in India aren't able to get access to proper healthcare due to the massive population and lack of funding in certain areas leading to millions of people being sick and undiagnosed. I even remember seeing many people in the same community as my relatives being very sick and unable to drive to the nearest hospital, which was extremely far away. Perhaps if there was an organization and funding sent to these rural areas, more people would be able to have hospitals nearby and doctors that can aid them when they are sick. There is also a digital divide in this case because the science and technology used to diagnose people here in California deeply differs from that which is in India. "
   ]
  }
 ],
 "metadata": {
  "language_info": {
   "name": "python"
  }
 },
 "nbformat": 4,
 "nbformat_minor": 2
}
