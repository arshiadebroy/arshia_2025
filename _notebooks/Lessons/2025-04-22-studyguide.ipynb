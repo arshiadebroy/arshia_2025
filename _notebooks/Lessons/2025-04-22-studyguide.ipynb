{
 "cells": [
  {
   "cell_type": "markdown",
   "metadata": {},
   "source": [
    "---\n",
    "layout: post\n",
    "title: AP CSP Exam Study Guide \n",
    "description: Study Guide \n",
    "courses: { csp: {week:1} }\n",
    "comments: true \n",
    "sticky_rank: 1\n",
    "---"
   ]
  },
  {
   "cell_type": "markdown",
   "metadata": {},
   "source": [
    "## Weekly Notes on Lessons \n",
    "<style>\n",
    "\n",
    "/* Change color of links on hover */\n",
    ".dropdown-content-a:hover {\n",
    "| background-color: #ddd;\n",
    "}\n",
    "\n",
    "/* Show the dropdown content when the user clicks on the button */\n",
    ".dropdown:hover .dropdown-content {\n",
    "| display: block;\n",
    "}\n",
    "\n",
    "/* Dropdown Button Hover Effect */\n",
    ".dropbtn:hover {\n",
    "| background-color: #ff1493;\n",
    "}\n",
    "\n",
    ".button {\n",
    "  background-color: #ff6eb2; /* Green */\n",
    "  border: none;\n",
    "  color: purple;\n",
    "  padding: 20px;\n",
    "  text-align: center;\n",
    "  text-decoration: none;\n",
    "  display: inline-block;\n",
    "  font-size: 16px;\n",
    "  margin: 4px 2px;\n",
    "  cursor: pointer;\n",
    "}\n",
    "\n",
    ".button1 {border-radius: 12px;}\n",
    "</style>\n",
    "\n",
    "\n",
    "<a href=\"https://www.youtube.com/watch?v=-2RiNR2fqRY\">\n",
    "<button class=\"button button1\">Week 1</button>\n",
    "</a>\n",
    "\n",
    "\n",
    "<a href=\"https://dailykitten.com/\">\n",
    "<button class=\"button button1\">Week 2</button>\n",
    "</a>\n",
    "\n",
    "<a href=\"https://dailykitten.com/\">\n",
    "<button class=\"button button1\">Week 3</button>\n",
    "</a>"
   ]
  }
 ],
 "metadata": {
  "language_info": {
   "name": "python"
  }
 },
 "nbformat": 4,
 "nbformat_minor": 2
}
